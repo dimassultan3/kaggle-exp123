{
 "cells": [
  {
   "cell_type": "markdown",
   "id": "2b8510f6",
   "metadata": {},
   "source": [
    "# Analyzing Used Car Listings on eBay Kleinanzeigen\n",
    "\n",
    "Dataset was scraped and retrieved from [Kaggle](https://www.kaggle.com/orgesleka/used-cars-database/data)\n",
    "\n",
    "The data dictionary provided with data is as follows:\n",
    "\n",
    "-  dateCrawled - When this ad was first crawled. All field-values are taken from this date.\n",
    "-  name - Name of the car.\n",
    "-  seller - Whether the seller is private or a dealer.\n",
    "-  offerType - The type of listing\n",
    "-  price - The price on the ad to sell the car.\n",
    "-  abtest - Whether the listing is included in an A/B test.\n",
    "-  vehicleType - The vehicle Type.\n",
    "-  yearOfRegistration - The year in which which year the car was first registered.\n",
    "-  gearbox - The transmission type.\n",
    "-  powerPS - The power of the car in PS.\n",
    "-  model - The car model name.\n",
    "-  kilometer - How many kilometers the car has driven.\n",
    "-  monthOfRegistration - The month in which which year the car was first registered.\n",
    "-  fuelType - What type of fuel the car uses.\n",
    "-  brand - The brand of the car.\n",
    "-  notRepairedDamage - If the car has a damage which is not yet repaired.\n",
    "-  dateCreated - The date on which the eBay listing was created.\n",
    "-  nrOfPictures - The number of pictures in the ad.\n",
    "-  postalCode - The postal code for the location of the vehicle.\n",
    "-  lastSeenOnline - When the crawler saw this ad last online.\n",
    "\n",
    "\n",
    "## The aim of this project is to clean the data and analyze the included used car listings."
   ]
  },
  {
   "cell_type": "code",
   "execution_count": 1,
   "id": "19fd998e",
   "metadata": {
    "scrolled": true
   },
   "outputs": [
    {
     "name": "stdout",
     "output_type": "stream",
     "text": [
      "dateCrawled                0\n",
      "name                       0\n",
      "seller                     0\n",
      "offerType                  0\n",
      "price                      0\n",
      "abtest                     0\n",
      "vehicleType            37869\n",
      "yearOfRegistration         0\n",
      "gearbox                20209\n",
      "powerPS                    0\n",
      "model                  20484\n",
      "kilometer                  0\n",
      "monthOfRegistration        0\n",
      "fuelType               33386\n",
      "brand                      0\n",
      "notRepairedDamage      72060\n",
      "dateCreated                0\n",
      "nrOfPictures               0\n",
      "postalCode                 0\n",
      "lastSeen                   0\n",
      "dtype: int64\n",
      "\n",
      "\n"
     ]
    }
   ],
   "source": [
    "import pandas as pd \n",
    "import numpy as np \n",
    "\n",
    "autos = pd.read_csv('autos.csv', encoding = \"Latin-1\")\n",
    "print(autos.isnull().sum())\n",
    "print(\"\\n\")\n"
   ]
  },
  {
   "cell_type": "markdown",
   "id": "185c2df4",
   "metadata": {},
   "source": [
    "ate"
   ]
  },
  {
   "cell_type": "markdown",
   "id": "66602f39",
   "metadata": {},
   "source": [
    "CEK 123"
   ]
  },
  {
   "cell_type": "code",
   "execution_count": 2,
   "id": "e7bef50a",
   "metadata": {},
   "outputs": [
    {
     "name": "stdout",
     "output_type": "stream",
     "text": [
      "<bound method NDFrame.head of                date_crawled                                          name  \\\n",
      "0       2016-03-24 11:52:17                                    Golf_3_1.6   \n",
      "1       2016-03-24 10:58:45                          A5_Sportback_2.7_Tdi   \n",
      "2       2016-03-14 12:52:21                Jeep_Grand_Cherokee_\"Overland\"   \n",
      "3       2016-03-17 16:54:04                            GOLF_4_1_4__3TÜRER   \n",
      "4       2016-03-31 17:25:20                Skoda_Fabia_1.4_TDI_PD_Classic   \n",
      "...                     ...                                           ...   \n",
      "371523  2016-03-14 17:48:27                    Suche_t4___vito_ab_6_sitze   \n",
      "371524  2016-03-05 19:56:21         Smart_smart_leistungssteigerung_100ps   \n",
      "371525  2016-03-19 18:57:12            Volkswagen_Multivan_T4_TDI_7DC_UY2   \n",
      "371526  2016-03-20 19:41:08                        VW_Golf_Kombi_1_9l_TDI   \n",
      "371527  2016-03-07 19:39:19  BMW_M135i_vollausgestattet_NP_52.720____Euro   \n",
      "\n",
      "        seller offer_type  price  ab_test vehicle_type  registration_year  \\\n",
      "0       privat    Angebot    480     test          NaN               1993   \n",
      "1       privat    Angebot  18300     test        coupe               2011   \n",
      "2       privat    Angebot   9800     test          suv               2004   \n",
      "3       privat    Angebot   1500     test   kleinwagen               2001   \n",
      "4       privat    Angebot   3600     test   kleinwagen               2008   \n",
      "...        ...        ...    ...      ...          ...                ...   \n",
      "371523  privat    Angebot   2200     test          NaN               2005   \n",
      "371524  privat    Angebot   1199     test       cabrio               2000   \n",
      "371525  privat    Angebot   9200     test          bus               1996   \n",
      "371526  privat    Angebot   3400     test        kombi               2002   \n",
      "371527  privat    Angebot  28990  control    limousine               2013   \n",
      "\n",
      "          gearbox  power_ps        model  kilometer  registration_month  \\\n",
      "0         manuell         0         golf     150000                   0   \n",
      "1         manuell       190          NaN     125000                   5   \n",
      "2       automatik       163        grand     125000                   8   \n",
      "3         manuell        75         golf     150000                   6   \n",
      "4         manuell        69        fabia      90000                   7   \n",
      "...           ...       ...          ...        ...                 ...   \n",
      "371523        NaN         0          NaN      20000                   1   \n",
      "371524  automatik       101       fortwo     125000                   3   \n",
      "371525    manuell       102  transporter     150000                   3   \n",
      "371526    manuell       100         golf     150000                   6   \n",
      "371527    manuell       320      m_reihe      50000                   8   \n",
      "\n",
      "       fuel_type           brand unrepaired_damage           ad_created  \\\n",
      "0         benzin      volkswagen               NaN  2016-03-24 00:00:00   \n",
      "1         diesel            audi                ja  2016-03-24 00:00:00   \n",
      "2         diesel            jeep               NaN  2016-03-14 00:00:00   \n",
      "3         benzin      volkswagen              nein  2016-03-17 00:00:00   \n",
      "4         diesel           skoda              nein  2016-03-31 00:00:00   \n",
      "...          ...             ...               ...                  ...   \n",
      "371523       NaN  sonstige_autos               NaN  2016-03-14 00:00:00   \n",
      "371524    benzin           smart              nein  2016-03-05 00:00:00   \n",
      "371525    diesel      volkswagen              nein  2016-03-19 00:00:00   \n",
      "371526    diesel      volkswagen               NaN  2016-03-20 00:00:00   \n",
      "371527    benzin             bmw              nein  2016-03-07 00:00:00   \n",
      "\n",
      "        num_photos  post_code            last_seen  \n",
      "0                0      70435  2016-04-07 03:16:57  \n",
      "1                0      66954  2016-04-07 01:46:50  \n",
      "2                0      90480  2016-04-05 12:47:46  \n",
      "3                0      91074  2016-03-17 17:40:17  \n",
      "4                0      60437  2016-04-06 10:17:21  \n",
      "...            ...        ...                  ...  \n",
      "371523           0      39576  2016-04-06 00:46:52  \n",
      "371524           0      26135  2016-03-11 18:17:12  \n",
      "371525           0      87439  2016-04-07 07:15:26  \n",
      "371526           0      40764  2016-03-24 12:45:21  \n",
      "371527           0      73326  2016-03-22 03:17:10  \n",
      "\n",
      "[371528 rows x 20 columns]>\n"
     ]
    }
   ],
   "source": [
    "col_mapping = {\"dateCrawled\" : \"date_crawled\", \"offerType\" : \"offer_type\", \"abtest\" : \"ab_test\", \"vehicleType\" : \"vehicle_type\",\n",
    "              \"yearOfRegistration\" : \"registration_year\", \"powerPS\" : \"power_ps\", \"monthOfRegistration\" : \"registration_month\",\n",
    "              \"fuelType\" : \"fuel_type\", \"notRepairedDamage\" : \"unrepaired_damage\", \"dateCreated\" : \"ad_created\", \"nrOfPictures\" : \"num_photos\",\n",
    "              \"postalCode\" : \"post_code\", \"lastSeen\" : \"last_seen\"}\n",
    "\n",
    "autos = autos.rename(col_mapping, axis = 1)\n",
    "\n",
    "df = autos\n",
    "\n",
    "print(df.head)"
   ]
  },
  {
   "cell_type": "markdown",
   "id": "84a98145",
   "metadata": {},
   "source": [
    "## CLEANING DATA"
   ]
  },
  {
   "cell_type": "code",
   "execution_count": 3,
   "id": "02a90bc1",
   "metadata": {},
   "outputs": [
    {
     "data": {
      "text/html": [
       "<div>\n",
       "<style scoped>\n",
       "    .dataframe tbody tr th:only-of-type {\n",
       "        vertical-align: middle;\n",
       "    }\n",
       "\n",
       "    .dataframe tbody tr th {\n",
       "        vertical-align: top;\n",
       "    }\n",
       "\n",
       "    .dataframe thead th {\n",
       "        text-align: right;\n",
       "    }\n",
       "</style>\n",
       "<table border=\"1\" class=\"dataframe\">\n",
       "  <thead>\n",
       "    <tr style=\"text-align: right;\">\n",
       "      <th></th>\n",
       "      <th>date_crawled</th>\n",
       "      <th>name</th>\n",
       "      <th>seller</th>\n",
       "      <th>offer_type</th>\n",
       "      <th>price</th>\n",
       "      <th>ab_test</th>\n",
       "      <th>vehicle_type</th>\n",
       "      <th>registration_year</th>\n",
       "      <th>gearbox</th>\n",
       "      <th>power_ps</th>\n",
       "      <th>model</th>\n",
       "      <th>kilometer</th>\n",
       "      <th>registration_month</th>\n",
       "      <th>fuel_type</th>\n",
       "      <th>brand</th>\n",
       "      <th>unrepaired_damage</th>\n",
       "      <th>ad_created</th>\n",
       "      <th>num_photos</th>\n",
       "      <th>post_code</th>\n",
       "      <th>last_seen</th>\n",
       "    </tr>\n",
       "  </thead>\n",
       "  <tbody>\n",
       "    <tr>\n",
       "      <th>count</th>\n",
       "      <td>371528</td>\n",
       "      <td>371528</td>\n",
       "      <td>371528</td>\n",
       "      <td>371528</td>\n",
       "      <td>3.715280e+05</td>\n",
       "      <td>371528</td>\n",
       "      <td>333659</td>\n",
       "      <td>371528.000000</td>\n",
       "      <td>351319</td>\n",
       "      <td>371528.000000</td>\n",
       "      <td>351044</td>\n",
       "      <td>371528.000000</td>\n",
       "      <td>371528.000000</td>\n",
       "      <td>338142</td>\n",
       "      <td>371528</td>\n",
       "      <td>299468</td>\n",
       "      <td>371528</td>\n",
       "      <td>371528.0</td>\n",
       "      <td>371528.00000</td>\n",
       "      <td>371528</td>\n",
       "    </tr>\n",
       "    <tr>\n",
       "      <th>unique</th>\n",
       "      <td>280500</td>\n",
       "      <td>233531</td>\n",
       "      <td>2</td>\n",
       "      <td>2</td>\n",
       "      <td>NaN</td>\n",
       "      <td>2</td>\n",
       "      <td>8</td>\n",
       "      <td>NaN</td>\n",
       "      <td>2</td>\n",
       "      <td>NaN</td>\n",
       "      <td>251</td>\n",
       "      <td>NaN</td>\n",
       "      <td>NaN</td>\n",
       "      <td>7</td>\n",
       "      <td>40</td>\n",
       "      <td>2</td>\n",
       "      <td>114</td>\n",
       "      <td>NaN</td>\n",
       "      <td>NaN</td>\n",
       "      <td>182806</td>\n",
       "    </tr>\n",
       "    <tr>\n",
       "      <th>top</th>\n",
       "      <td>2016-03-24 14:49:47</td>\n",
       "      <td>Ford_Fiesta</td>\n",
       "      <td>privat</td>\n",
       "      <td>Angebot</td>\n",
       "      <td>NaN</td>\n",
       "      <td>test</td>\n",
       "      <td>limousine</td>\n",
       "      <td>NaN</td>\n",
       "      <td>manuell</td>\n",
       "      <td>NaN</td>\n",
       "      <td>golf</td>\n",
       "      <td>NaN</td>\n",
       "      <td>NaN</td>\n",
       "      <td>benzin</td>\n",
       "      <td>volkswagen</td>\n",
       "      <td>nein</td>\n",
       "      <td>2016-04-03 00:00:00</td>\n",
       "      <td>NaN</td>\n",
       "      <td>NaN</td>\n",
       "      <td>2016-04-07 06:45:59</td>\n",
       "    </tr>\n",
       "    <tr>\n",
       "      <th>freq</th>\n",
       "      <td>7</td>\n",
       "      <td>657</td>\n",
       "      <td>371525</td>\n",
       "      <td>371516</td>\n",
       "      <td>NaN</td>\n",
       "      <td>192585</td>\n",
       "      <td>95894</td>\n",
       "      <td>NaN</td>\n",
       "      <td>274214</td>\n",
       "      <td>NaN</td>\n",
       "      <td>30070</td>\n",
       "      <td>NaN</td>\n",
       "      <td>NaN</td>\n",
       "      <td>223857</td>\n",
       "      <td>79640</td>\n",
       "      <td>263182</td>\n",
       "      <td>14450</td>\n",
       "      <td>NaN</td>\n",
       "      <td>NaN</td>\n",
       "      <td>17</td>\n",
       "    </tr>\n",
       "    <tr>\n",
       "      <th>mean</th>\n",
       "      <td>NaN</td>\n",
       "      <td>NaN</td>\n",
       "      <td>NaN</td>\n",
       "      <td>NaN</td>\n",
       "      <td>1.729514e+04</td>\n",
       "      <td>NaN</td>\n",
       "      <td>NaN</td>\n",
       "      <td>2004.577997</td>\n",
       "      <td>NaN</td>\n",
       "      <td>115.549477</td>\n",
       "      <td>NaN</td>\n",
       "      <td>125618.688228</td>\n",
       "      <td>5.734445</td>\n",
       "      <td>NaN</td>\n",
       "      <td>NaN</td>\n",
       "      <td>NaN</td>\n",
       "      <td>NaN</td>\n",
       "      <td>0.0</td>\n",
       "      <td>50820.66764</td>\n",
       "      <td>NaN</td>\n",
       "    </tr>\n",
       "    <tr>\n",
       "      <th>std</th>\n",
       "      <td>NaN</td>\n",
       "      <td>NaN</td>\n",
       "      <td>NaN</td>\n",
       "      <td>NaN</td>\n",
       "      <td>3.587954e+06</td>\n",
       "      <td>NaN</td>\n",
       "      <td>NaN</td>\n",
       "      <td>92.866598</td>\n",
       "      <td>NaN</td>\n",
       "      <td>192.139578</td>\n",
       "      <td>NaN</td>\n",
       "      <td>40112.337051</td>\n",
       "      <td>3.712412</td>\n",
       "      <td>NaN</td>\n",
       "      <td>NaN</td>\n",
       "      <td>NaN</td>\n",
       "      <td>NaN</td>\n",
       "      <td>0.0</td>\n",
       "      <td>25799.08247</td>\n",
       "      <td>NaN</td>\n",
       "    </tr>\n",
       "    <tr>\n",
       "      <th>min</th>\n",
       "      <td>NaN</td>\n",
       "      <td>NaN</td>\n",
       "      <td>NaN</td>\n",
       "      <td>NaN</td>\n",
       "      <td>0.000000e+00</td>\n",
       "      <td>NaN</td>\n",
       "      <td>NaN</td>\n",
       "      <td>1000.000000</td>\n",
       "      <td>NaN</td>\n",
       "      <td>0.000000</td>\n",
       "      <td>NaN</td>\n",
       "      <td>5000.000000</td>\n",
       "      <td>0.000000</td>\n",
       "      <td>NaN</td>\n",
       "      <td>NaN</td>\n",
       "      <td>NaN</td>\n",
       "      <td>NaN</td>\n",
       "      <td>0.0</td>\n",
       "      <td>1067.00000</td>\n",
       "      <td>NaN</td>\n",
       "    </tr>\n",
       "    <tr>\n",
       "      <th>25%</th>\n",
       "      <td>NaN</td>\n",
       "      <td>NaN</td>\n",
       "      <td>NaN</td>\n",
       "      <td>NaN</td>\n",
       "      <td>1.150000e+03</td>\n",
       "      <td>NaN</td>\n",
       "      <td>NaN</td>\n",
       "      <td>1999.000000</td>\n",
       "      <td>NaN</td>\n",
       "      <td>70.000000</td>\n",
       "      <td>NaN</td>\n",
       "      <td>125000.000000</td>\n",
       "      <td>3.000000</td>\n",
       "      <td>NaN</td>\n",
       "      <td>NaN</td>\n",
       "      <td>NaN</td>\n",
       "      <td>NaN</td>\n",
       "      <td>0.0</td>\n",
       "      <td>30459.00000</td>\n",
       "      <td>NaN</td>\n",
       "    </tr>\n",
       "    <tr>\n",
       "      <th>50%</th>\n",
       "      <td>NaN</td>\n",
       "      <td>NaN</td>\n",
       "      <td>NaN</td>\n",
       "      <td>NaN</td>\n",
       "      <td>2.950000e+03</td>\n",
       "      <td>NaN</td>\n",
       "      <td>NaN</td>\n",
       "      <td>2003.000000</td>\n",
       "      <td>NaN</td>\n",
       "      <td>105.000000</td>\n",
       "      <td>NaN</td>\n",
       "      <td>150000.000000</td>\n",
       "      <td>6.000000</td>\n",
       "      <td>NaN</td>\n",
       "      <td>NaN</td>\n",
       "      <td>NaN</td>\n",
       "      <td>NaN</td>\n",
       "      <td>0.0</td>\n",
       "      <td>49610.00000</td>\n",
       "      <td>NaN</td>\n",
       "    </tr>\n",
       "    <tr>\n",
       "      <th>75%</th>\n",
       "      <td>NaN</td>\n",
       "      <td>NaN</td>\n",
       "      <td>NaN</td>\n",
       "      <td>NaN</td>\n",
       "      <td>7.200000e+03</td>\n",
       "      <td>NaN</td>\n",
       "      <td>NaN</td>\n",
       "      <td>2008.000000</td>\n",
       "      <td>NaN</td>\n",
       "      <td>150.000000</td>\n",
       "      <td>NaN</td>\n",
       "      <td>150000.000000</td>\n",
       "      <td>9.000000</td>\n",
       "      <td>NaN</td>\n",
       "      <td>NaN</td>\n",
       "      <td>NaN</td>\n",
       "      <td>NaN</td>\n",
       "      <td>0.0</td>\n",
       "      <td>71546.00000</td>\n",
       "      <td>NaN</td>\n",
       "    </tr>\n",
       "    <tr>\n",
       "      <th>max</th>\n",
       "      <td>NaN</td>\n",
       "      <td>NaN</td>\n",
       "      <td>NaN</td>\n",
       "      <td>NaN</td>\n",
       "      <td>2.147484e+09</td>\n",
       "      <td>NaN</td>\n",
       "      <td>NaN</td>\n",
       "      <td>9999.000000</td>\n",
       "      <td>NaN</td>\n",
       "      <td>20000.000000</td>\n",
       "      <td>NaN</td>\n",
       "      <td>150000.000000</td>\n",
       "      <td>12.000000</td>\n",
       "      <td>NaN</td>\n",
       "      <td>NaN</td>\n",
       "      <td>NaN</td>\n",
       "      <td>NaN</td>\n",
       "      <td>0.0</td>\n",
       "      <td>99998.00000</td>\n",
       "      <td>NaN</td>\n",
       "    </tr>\n",
       "  </tbody>\n",
       "</table>\n",
       "</div>"
      ],
      "text/plain": [
       "               date_crawled         name  seller offer_type         price  \\\n",
       "count                371528       371528  371528     371528  3.715280e+05   \n",
       "unique               280500       233531       2          2           NaN   \n",
       "top     2016-03-24 14:49:47  Ford_Fiesta  privat    Angebot           NaN   \n",
       "freq                      7          657  371525     371516           NaN   \n",
       "mean                    NaN          NaN     NaN        NaN  1.729514e+04   \n",
       "std                     NaN          NaN     NaN        NaN  3.587954e+06   \n",
       "min                     NaN          NaN     NaN        NaN  0.000000e+00   \n",
       "25%                     NaN          NaN     NaN        NaN  1.150000e+03   \n",
       "50%                     NaN          NaN     NaN        NaN  2.950000e+03   \n",
       "75%                     NaN          NaN     NaN        NaN  7.200000e+03   \n",
       "max                     NaN          NaN     NaN        NaN  2.147484e+09   \n",
       "\n",
       "       ab_test vehicle_type  registration_year  gearbox       power_ps  \\\n",
       "count   371528       333659      371528.000000   351319  371528.000000   \n",
       "unique       2            8                NaN        2            NaN   \n",
       "top       test    limousine                NaN  manuell            NaN   \n",
       "freq    192585        95894                NaN   274214            NaN   \n",
       "mean       NaN          NaN        2004.577997      NaN     115.549477   \n",
       "std        NaN          NaN          92.866598      NaN     192.139578   \n",
       "min        NaN          NaN        1000.000000      NaN       0.000000   \n",
       "25%        NaN          NaN        1999.000000      NaN      70.000000   \n",
       "50%        NaN          NaN        2003.000000      NaN     105.000000   \n",
       "75%        NaN          NaN        2008.000000      NaN     150.000000   \n",
       "max        NaN          NaN        9999.000000      NaN   20000.000000   \n",
       "\n",
       "         model      kilometer  registration_month fuel_type       brand  \\\n",
       "count   351044  371528.000000       371528.000000    338142      371528   \n",
       "unique     251            NaN                 NaN         7          40   \n",
       "top       golf            NaN                 NaN    benzin  volkswagen   \n",
       "freq     30070            NaN                 NaN    223857       79640   \n",
       "mean       NaN  125618.688228            5.734445       NaN         NaN   \n",
       "std        NaN   40112.337051            3.712412       NaN         NaN   \n",
       "min        NaN    5000.000000            0.000000       NaN         NaN   \n",
       "25%        NaN  125000.000000            3.000000       NaN         NaN   \n",
       "50%        NaN  150000.000000            6.000000       NaN         NaN   \n",
       "75%        NaN  150000.000000            9.000000       NaN         NaN   \n",
       "max        NaN  150000.000000           12.000000       NaN         NaN   \n",
       "\n",
       "       unrepaired_damage           ad_created  num_photos     post_code  \\\n",
       "count             299468               371528    371528.0  371528.00000   \n",
       "unique                 2                  114         NaN           NaN   \n",
       "top                 nein  2016-04-03 00:00:00         NaN           NaN   \n",
       "freq              263182                14450         NaN           NaN   \n",
       "mean                 NaN                  NaN         0.0   50820.66764   \n",
       "std                  NaN                  NaN         0.0   25799.08247   \n",
       "min                  NaN                  NaN         0.0    1067.00000   \n",
       "25%                  NaN                  NaN         0.0   30459.00000   \n",
       "50%                  NaN                  NaN         0.0   49610.00000   \n",
       "75%                  NaN                  NaN         0.0   71546.00000   \n",
       "max                  NaN                  NaN         0.0   99998.00000   \n",
       "\n",
       "                  last_seen  \n",
       "count                371528  \n",
       "unique               182806  \n",
       "top     2016-04-07 06:45:59  \n",
       "freq                     17  \n",
       "mean                    NaN  \n",
       "std                     NaN  \n",
       "min                     NaN  \n",
       "25%                     NaN  \n",
       "50%                     NaN  \n",
       "75%                     NaN  \n",
       "max                     NaN  "
      ]
     },
     "execution_count": 3,
     "metadata": {},
     "output_type": "execute_result"
    }
   ],
   "source": [
    "df.describe(include = \"all\")"
   ]
  },
  {
   "cell_type": "code",
   "execution_count": 4,
   "id": "ad50f671",
   "metadata": {
    "scrolled": false
   },
   "outputs": [
    {
     "data": {
      "text/plain": [
       "0    371528\n",
       "Name: num_photos, dtype: int64"
      ]
     },
     "execution_count": 4,
     "metadata": {},
     "output_type": "execute_result"
    }
   ],
   "source": [
    "df[\"num_photos\"].value_counts()"
   ]
  },
  {
   "cell_type": "code",
   "execution_count": 5,
   "id": "7c69ab25",
   "metadata": {
    "scrolled": true
   },
   "outputs": [
    {
     "data": {
      "text/plain": [
       "privat        371525\n",
       "gewerblich         3\n",
       "Name: seller, dtype: int64"
      ]
     },
     "execution_count": 5,
     "metadata": {},
     "output_type": "execute_result"
    }
   ],
   "source": [
    "df[\"seller\"].value_counts()"
   ]
  },
  {
   "cell_type": "code",
   "execution_count": 6,
   "id": "fbb18e99",
   "metadata": {},
   "outputs": [
    {
     "data": {
      "text/plain": [
       "Angebot    371516\n",
       "Gesuch         12\n",
       "Name: offer_type, dtype: int64"
      ]
     },
     "execution_count": 6,
     "metadata": {},
     "output_type": "execute_result"
    }
   ],
   "source": [
    "df[\"offer_type\"].value_counts()"
   ]
  },
  {
   "cell_type": "markdown",
   "id": "30bd53c4",
   "metadata": {},
   "source": [
    "-SEMUA NUM PHOTOS NILAINYA 0 , JADI KITA DELETE \n",
    "-SELLER TERLALU UMUM PRIVAT DAN GEWERBLICH\n"
   ]
  },
  {
   "cell_type": "code",
   "execution_count": 7,
   "id": "29b7bb82",
   "metadata": {},
   "outputs": [],
   "source": [
    "col_drop = [\"seller\",\"offer_type\",\"num_photos\"] #delete column\n",
    "df2 = df.drop(col_drop, axis = 1)"
   ]
  },
  {
   "cell_type": "code",
   "execution_count": 8,
   "id": "a4c65d35",
   "metadata": {
    "scrolled": true
   },
   "outputs": [
    {
     "name": "stdout",
     "output_type": "stream",
     "text": [
      "<class 'pandas.core.frame.DataFrame'>\n",
      "RangeIndex: 371528 entries, 0 to 371527\n",
      "Data columns (total 20 columns):\n",
      " #   Column              Non-Null Count   Dtype \n",
      "---  ------              --------------   ----- \n",
      " 0   date_crawled        371528 non-null  object\n",
      " 1   name                371528 non-null  object\n",
      " 2   seller              371528 non-null  object\n",
      " 3   offer_type          371528 non-null  object\n",
      " 4   price               371528 non-null  int64 \n",
      " 5   ab_test             371528 non-null  object\n",
      " 6   vehicle_type        333659 non-null  object\n",
      " 7   registration_year   371528 non-null  int64 \n",
      " 8   gearbox             351319 non-null  object\n",
      " 9   power_ps            371528 non-null  int64 \n",
      " 10  model               351044 non-null  object\n",
      " 11  kilometer           371528 non-null  int64 \n",
      " 12  registration_month  371528 non-null  int64 \n",
      " 13  fuel_type           338142 non-null  object\n",
      " 14  brand               371528 non-null  object\n",
      " 15  unrepaired_damage   299468 non-null  object\n",
      " 16  ad_created          371528 non-null  object\n",
      " 17  num_photos          371528 non-null  int64 \n",
      " 18  post_code           371528 non-null  int64 \n",
      " 19  last_seen           371528 non-null  object\n",
      "dtypes: int64(7), object(13)\n",
      "memory usage: 56.7+ MB\n",
      "None\n"
     ]
    }
   ],
   "source": [
    "#print(df.columns)#cek apakah udah ke-delete\n",
    "#print(\"\\n\")\n",
    "print(df.info())"
   ]
  },
  {
   "cell_type": "code",
   "execution_count": 9,
   "id": "fd681485",
   "metadata": {
    "scrolled": true
   },
   "outputs": [
    {
     "name": "stdout",
     "output_type": "stream",
     "text": [
      "<class 'pandas.core.frame.DataFrame'>\n",
      "RangeIndex: 371528 entries, 0 to 371527\n",
      "Data columns (total 17 columns):\n",
      " #   Column              Non-Null Count   Dtype \n",
      "---  ------              --------------   ----- \n",
      " 0   date_crawled        371528 non-null  object\n",
      " 1   name                371528 non-null  object\n",
      " 2   price               371528 non-null  int64 \n",
      " 3   ab_test             371528 non-null  object\n",
      " 4   vehicle_type        333659 non-null  object\n",
      " 5   registration_year   371528 non-null  int64 \n",
      " 6   gearbox             351319 non-null  object\n",
      " 7   power_ps            371528 non-null  int64 \n",
      " 8   model               351044 non-null  object\n",
      " 9   kilometer           371528 non-null  int64 \n",
      " 10  registration_month  371528 non-null  int64 \n",
      " 11  fuel_type           338142 non-null  object\n",
      " 12  brand               371528 non-null  object\n",
      " 13  unrepaired_damage   299468 non-null  object\n",
      " 14  ad_created          371528 non-null  object\n",
      " 15  post_code           371528 non-null  int64 \n",
      " 16  last_seen           371528 non-null  object\n",
      "dtypes: int64(6), object(11)\n",
      "memory usage: 48.2+ MB\n",
      "None\n"
     ]
    }
   ],
   "source": [
    "print(df2.info()) #confirm its deleted"
   ]
  },
  {
   "cell_type": "markdown",
   "id": "3a2f56ff",
   "metadata": {},
   "source": [
    "ada kolom bahasa german, terutama di veh type, gearbox, unrepaired_damage, fuel type translate to engilh"
   ]
  },
  {
   "cell_type": "code",
   "execution_count": 10,
   "id": "6a97b998",
   "metadata": {
    "scrolled": true
   },
   "outputs": [
    {
     "name": "stdout",
     "output_type": "stream",
     "text": [
      "limousine     95894\n",
      "kleinwagen    80023\n",
      "kombi         67564\n",
      "NaN           37869\n",
      "bus           30201\n",
      "cabrio        22898\n",
      "coupe         19015\n",
      "suv           14707\n",
      "andere         3357\n",
      "Name: vehicle_type, dtype: int64\n",
      "manuell      274214\n",
      "automatik     77105\n",
      "NaN           20209\n",
      "Name: gearbox, dtype: int64\n",
      "nein    263182\n",
      "NaN      72060\n",
      "ja       36286\n",
      "Name: unrepaired_damage, dtype: int64\n",
      "benzin     223857\n",
      "diesel     107746\n",
      "NaN         33386\n",
      "lpg          5378\n",
      "cng           571\n",
      "hybrid        278\n",
      "andere        208\n",
      "elektro       104\n",
      "Name: fuel_type, dtype: int64\n"
     ]
    }
   ],
   "source": [
    "print(df2['vehicle_type'].value_counts(dropna = False))\n",
    "print(df2['gearbox'].value_counts(dropna = False))\n",
    "print(df2['unrepaired_damage'].value_counts(dropna = False))\n",
    "print(df2['fuel_type'].value_counts(dropna = False))"
   ]
  },
  {
   "cell_type": "code",
   "execution_count": 11,
   "id": "617353b8",
   "metadata": {
    "scrolled": true
   },
   "outputs": [
    {
     "name": "stdout",
     "output_type": "stream",
     "text": [
      "          date_crawled                            name  seller offer_type  \\\n",
      "0  2016-03-24 11:52:17                      Golf_3_1.6  privat    Angebot   \n",
      "1  2016-03-24 10:58:45            A5_Sportback_2.7_Tdi  privat    Angebot   \n",
      "2  2016-03-14 12:52:21  Jeep_Grand_Cherokee_\"Overland\"  privat    Angebot   \n",
      "3  2016-03-17 16:54:04              GOLF_4_1_4__3TÜRER  privat    Angebot   \n",
      "4  2016-03-31 17:25:20  Skoda_Fabia_1.4_TDI_PD_Classic  privat    Angebot   \n",
      "\n",
      "   price ab_test vehicle_type  registration_year    gearbox  power_ps  model  \\\n",
      "0    480    test          NaN               1993    manuell         0   golf   \n",
      "1  18300    test        coupe               2011    manuell       190    NaN   \n",
      "2   9800    test          suv               2004  automatik       163  grand   \n",
      "3   1500    test   kleinwagen               2001    manuell        75   golf   \n",
      "4   3600    test   kleinwagen               2008    manuell        69  fabia   \n",
      "\n",
      "   kilometer  registration_month fuel_type       brand unrepaired_damage  \\\n",
      "0     150000                   0    benzin  volkswagen               NaN   \n",
      "1     125000                   5    diesel        audi                ja   \n",
      "2     125000                   8    diesel        jeep               NaN   \n",
      "3     150000                   6    benzin  volkswagen              nein   \n",
      "4      90000                   7    diesel       skoda              nein   \n",
      "\n",
      "            ad_created  num_photos  post_code            last_seen  \n",
      "0  2016-03-24 00:00:00           0      70435  2016-04-07 03:16:57  \n",
      "1  2016-03-24 00:00:00           0      66954  2016-04-07 01:46:50  \n",
      "2  2016-03-14 00:00:00           0      90480  2016-04-05 12:47:46  \n",
      "3  2016-03-17 00:00:00           0      91074  2016-03-17 17:40:17  \n",
      "4  2016-03-31 00:00:00           0      60437  2016-04-06 10:17:21  \n",
      "          date_crawled                            name  price ab_test  \\\n",
      "0  2016-03-24 11:52:17                      Golf_3_1.6    480    test   \n",
      "1  2016-03-24 10:58:45            A5_Sportback_2.7_Tdi  18300    test   \n",
      "2  2016-03-14 12:52:21  Jeep_Grand_Cherokee_\"Overland\"   9800    test   \n",
      "3  2016-03-17 16:54:04              GOLF_4_1_4__3TÜRER   1500    test   \n",
      "4  2016-03-31 17:25:20  Skoda_Fabia_1.4_TDI_PD_Classic   3600    test   \n",
      "\n",
      "  vehicle_type  registration_year    gearbox  power_ps  model  kilometer  \\\n",
      "0          NaN               1993     manual         0   golf     150000   \n",
      "1        coupe               2011     manual       190    NaN     125000   \n",
      "2          suv               2004  automatic       163  grand     125000   \n",
      "3    supermini               2001     manual        75   golf     150000   \n",
      "4    supermini               2008     manual        69  fabia      90000   \n",
      "\n",
      "   registration_month fuel_type       brand unrepaired_damage  \\\n",
      "0                   0    petrol  volkswagen               NaN   \n",
      "1                   5    diesel        audi               yes   \n",
      "2                   8    diesel        jeep               NaN   \n",
      "3                   6    petrol  volkswagen                no   \n",
      "4                   7    diesel       skoda                no   \n",
      "\n",
      "            ad_created  post_code            last_seen  \n",
      "0  2016-03-24 00:00:00      70435  2016-04-07 03:16:57  \n",
      "1  2016-03-24 00:00:00      66954  2016-04-07 01:46:50  \n",
      "2  2016-03-14 00:00:00      90480  2016-04-05 12:47:46  \n",
      "3  2016-03-17 00:00:00      91074  2016-03-17 17:40:17  \n",
      "4  2016-03-31 00:00:00      60437  2016-04-06 10:17:21  \n"
     ]
    }
   ],
   "source": [
    "print(autos.head())\n",
    "mapping_fix = {'bus':'bus', 'limousine':'limousine', 'kleinwagen':'supermini', 'kombi':'station_wagon', 'coupe':'coupe',\n",
    "    'suv':'suv', 'cabrio':'cabrio', 'andere' :'other'}\n",
    "df2['vehicle_type'] = df2['vehicle_type'].map(mapping_fix, na_action = 'ignore')\n",
    "\n",
    "mapping_fix = {'manuell' : 'manual', 'automatik' : 'automatic'}\n",
    "df2['gearbox'] = df2['gearbox'].map(mapping_fix, na_action = 'ignore')\n",
    "\n",
    "mapping_fix = {'nein' : 'no', 'ja' : 'yes'}\n",
    "df2['unrepaired_damage'] = df2['unrepaired_damage'].map(mapping_fix, na_action = 'ignore')\n",
    "\n",
    "mapping_fix = {'benzin' : 'petrol', 'diesel' : 'diesel', 'lpg' : 'lpg', 'cng' : 'cng', 'hybrid' : 'hybrid', 'andere' : 'other',\n",
    "              'elektro' : 'electric'}\n",
    "df2['fuel_type'] = df2['fuel_type'].map(mapping_fix, na_action = 'ignore')\n",
    "\n",
    "print(df2.head())#its fixed yaaa"
   ]
  },
  {
   "cell_type": "markdown",
   "id": "c175e04d",
   "metadata": {},
   "source": [
    "##Exploring Kilometer and Price\n",
    "\n",
    "kta cek angkanya dibuletin gk"
   ]
  },
  {
   "cell_type": "code",
   "execution_count": 12,
   "id": "aadc19ef",
   "metadata": {},
   "outputs": [
    {
     "name": "stdout",
     "output_type": "stream",
     "text": [
      "150000    240797\n",
      "125000     38067\n",
      "100000     15920\n",
      "90000      12523\n",
      "80000      11053\n",
      "70000       9773\n",
      "60000       8669\n",
      "50000       7615\n",
      "5000        7069\n",
      "40000       6376\n",
      "30000       6041\n",
      "20000       5676\n",
      "10000       1949\n",
      "Name: kilometer, dtype: int64\n",
      "\n",
      "\n",
      "0    150000\n",
      "1    125000\n",
      "2    125000\n",
      "3    150000\n",
      "4     90000\n",
      "Name: kilometer, dtype: int64\n"
     ]
    }
   ],
   "source": [
    "print(df2[\"kilometer\"].value_counts())\n",
    "print(\"\\n\")\n",
    "print(df2['kilometer'].head())"
   ]
  },
  {
   "cell_type": "code",
   "execution_count": 13,
   "id": "56c93fb4",
   "metadata": {
    "scrolled": true
   },
   "outputs": [
    {
     "name": "stdout",
     "output_type": "stream",
     "text": [
      "(5597,)\n",
      "\n",
      "\n",
      "count    3.715280e+05\n",
      "mean     1.729514e+04\n",
      "std      3.587954e+06\n",
      "min      0.000000e+00\n",
      "25%      1.150000e+03\n",
      "50%      2.950000e+03\n",
      "75%      7.200000e+03\n",
      "max      2.147484e+09\n",
      "Name: price, dtype: float64\n",
      "\n",
      "\n",
      "0       10778\n",
      "500      5670\n",
      "1500     5394\n",
      "1000     4649\n",
      "1200     4594\n",
      "2500     4438\n",
      "600      3819\n",
      "3500     3792\n",
      "800      3784\n",
      "2000     3432\n",
      "999      3364\n",
      "750      3203\n",
      "650      3150\n",
      "4500     3053\n",
      "850      2946\n",
      "2200     2936\n",
      "700      2936\n",
      "1800     2886\n",
      "900      2874\n",
      "950      2793\n",
      "Name: price, dtype: int64\n",
      "\n",
      "\n",
      "0       10778\n",
      "500      5670\n",
      "1500     5394\n",
      "1000     4649\n",
      "1200     4594\n",
      "Name: price, dtype: int64\n"
     ]
    }
   ],
   "source": [
    "print(df2[\"price\"].unique().shape)\n",
    "print(\"\\n\")\n",
    "print(df2[\"price\"].describe())\n",
    "print(\"\\n\")\n",
    "print(df2[\"price\"].value_counts().head(20))\n",
    "print(\"\\n\")\n",
    "print(df2[\"price\"].value_counts().head())"
   ]
  },
  {
   "cell_type": "markdown",
   "id": "1c124f08",
   "metadata": {},
   "source": [
    "ada 5597 nilai yang unik pada kolom price. Ada prob pembulatan angka. Ada 10778 mobil dengan harga 0 (which is itu gk make sense), lets say itu ada 53% dari total. Ini mau di remove atau nggak.  Max price 1jt dollar, dimana itu mustahil."
   ]
  },
  {
   "cell_type": "code",
   "execution_count": 14,
   "id": "03e035ba",
   "metadata": {},
   "outputs": [
    {
     "data": {
      "text/plain": [
       "2147483647     1\n",
       "99999999      15\n",
       "99000000       1\n",
       "74185296       1\n",
       "32545461       1\n",
       "27322222       1\n",
       "14000500       1\n",
       "12345678       9\n",
       "11111111      10\n",
       "10010011       1\n",
       "10000000       8\n",
       "9999999        3\n",
       "3895000        1\n",
       "3890000        1\n",
       "2995000        1\n",
       "2795000        1\n",
       "1600000        2\n",
       "1300000        1\n",
       "1250000        2\n",
       "1234566        1\n",
       "Name: price, dtype: int64"
      ]
     },
     "execution_count": 14,
     "metadata": {},
     "output_type": "execute_result"
    }
   ],
   "source": [
    "df2[\"price\"].value_counts().sort_index(ascending=False).head(20)"
   ]
  },
  {
   "cell_type": "code",
   "execution_count": 15,
   "id": "70ac9c83",
   "metadata": {
    "scrolled": true
   },
   "outputs": [
    {
     "data": {
      "text/plain": [
       "0     10778\n",
       "1      1189\n",
       "2        12\n",
       "3         8\n",
       "4         1\n",
       "5        26\n",
       "7         3\n",
       "8         9\n",
       "9         8\n",
       "10       84\n",
       "11        5\n",
       "12        8\n",
       "13        7\n",
       "14        5\n",
       "15       27\n",
       "16        2\n",
       "17        5\n",
       "18        3\n",
       "19        3\n",
       "20       51\n",
       "Name: price, dtype: int64"
      ]
     },
     "execution_count": 15,
     "metadata": {},
     "output_type": "execute_result"
    }
   ],
   "source": [
    "df2[\"price\"].value_counts().sort_index(ascending=True).head(20)"
   ]
  },
  {
   "cell_type": "markdown",
   "id": "ce070b9f",
   "metadata": {},
   "source": [
    "ada beberapa listings w/ harga dibawah 20 usd, include 1-100. Ada yg harga 1 juta dollar, sebanyak 15. Karena eBay itu auction, mungkin bakal di simpan, namun dihapus diatasnya, sejak harga lompat ke nilai yg tidak realistis."
   ]
  },
  {
   "cell_type": "code",
   "execution_count": 16,
   "id": "72a45450",
   "metadata": {},
   "outputs": [
    {
     "name": "stdout",
     "output_type": "stream",
     "text": [
      "True     360631\n",
      "False     10897\n",
      "Name: price, dtype: int64\n",
      "\n",
      "\n",
      "True    371528\n",
      "Name: price, dtype: int64\n"
     ]
    }
   ],
   "source": [
    "print(((df2[\"price\"]>0)&(df2[\"price\"]<350000)).value_counts())\n",
    "print(\"\\n\")\n",
    "print(((df2[\"price\"]>=0).value_counts()))"
   ]
  },
  {
   "cell_type": "code",
   "execution_count": 17,
   "id": "f349f9c2",
   "metadata": {},
   "outputs": [
    {
     "data": {
      "text/plain": [
       "count    360631.000000\n",
       "mean       5894.855298\n",
       "std        8792.034481\n",
       "min           1.000000\n",
       "25%        1250.000000\n",
       "50%        3000.000000\n",
       "75%        7490.000000\n",
       "max      349000.000000\n",
       "Name: price, dtype: float64"
      ]
     },
     "execution_count": 17,
     "metadata": {},
     "output_type": "execute_result"
    }
   ],
   "source": [
    "price_filter = (df2[\"price\"]>0)&(df2[\"price\"]<350000) #kta fiter harganya harus bernilai positif dan price nya dibawah 350k\n",
    "df3 = df2\n",
    "df3 = df2[price_filter]\n",
    "df3[\"price\"].describe()"
   ]
  },
  {
   "cell_type": "code",
   "execution_count": 18,
   "id": "3153f272",
   "metadata": {},
   "outputs": [
    {
     "name": "stdout",
     "output_type": "stream",
     "text": [
      "True    360631\n",
      "Name: price, dtype: int64\n",
      "\n",
      "\n",
      "True    360631\n",
      "Name: price, dtype: int64\n"
     ]
    }
   ],
   "source": [
    "print(((df3[\"price\"]>0)&(df3[\"price\"]<350000)).value_counts())\n",
    "print(\"\\n\")\n",
    "print(((df3[\"price\"]>=-1).value_counts()))"
   ]
  },
  {
   "cell_type": "markdown",
   "id": "45ab7785",
   "metadata": {},
   "source": [
    "## Exploring the Date Column\n",
    "\n",
    "kolom dengan format tanggal (date)\n",
    "\n",
    "-  date_crawled\n",
    "-  registration_month\n",
    "-  reistration_year\n",
    "-  ad_created\n",
    "-  last_seen \n",
    "\n",
    "berikt adalah kombinasi dari dates yng crawled dan meta informasi yang crawled. Non regis dates di simpan sebagai strings\n",
    "\n",
    "terus kita explore tiap kolomnya biar tahu listingnya"
   ]
  },
  {
   "cell_type": "code",
   "execution_count": 19,
   "id": "70468074",
   "metadata": {
    "scrolled": true
   },
   "outputs": [
    {
     "data": {
      "text/html": [
       "<div>\n",
       "<style scoped>\n",
       "    .dataframe tbody tr th:only-of-type {\n",
       "        vertical-align: middle;\n",
       "    }\n",
       "\n",
       "    .dataframe tbody tr th {\n",
       "        vertical-align: top;\n",
       "    }\n",
       "\n",
       "    .dataframe thead th {\n",
       "        text-align: right;\n",
       "    }\n",
       "</style>\n",
       "<table border=\"1\" class=\"dataframe\">\n",
       "  <thead>\n",
       "    <tr style=\"text-align: right;\">\n",
       "      <th></th>\n",
       "      <th>date_crawled</th>\n",
       "      <th>ad_created</th>\n",
       "      <th>last_seen</th>\n",
       "    </tr>\n",
       "  </thead>\n",
       "  <tbody>\n",
       "    <tr>\n",
       "      <th>0</th>\n",
       "      <td>2016-03-24 11:52:17</td>\n",
       "      <td>2016-03-24 00:00:00</td>\n",
       "      <td>2016-04-07 03:16:57</td>\n",
       "    </tr>\n",
       "    <tr>\n",
       "      <th>1</th>\n",
       "      <td>2016-03-24 10:58:45</td>\n",
       "      <td>2016-03-24 00:00:00</td>\n",
       "      <td>2016-04-07 01:46:50</td>\n",
       "    </tr>\n",
       "    <tr>\n",
       "      <th>2</th>\n",
       "      <td>2016-03-14 12:52:21</td>\n",
       "      <td>2016-03-14 00:00:00</td>\n",
       "      <td>2016-04-05 12:47:46</td>\n",
       "    </tr>\n",
       "    <tr>\n",
       "      <th>3</th>\n",
       "      <td>2016-03-17 16:54:04</td>\n",
       "      <td>2016-03-17 00:00:00</td>\n",
       "      <td>2016-03-17 17:40:17</td>\n",
       "    </tr>\n",
       "    <tr>\n",
       "      <th>4</th>\n",
       "      <td>2016-03-31 17:25:20</td>\n",
       "      <td>2016-03-31 00:00:00</td>\n",
       "      <td>2016-04-06 10:17:21</td>\n",
       "    </tr>\n",
       "  </tbody>\n",
       "</table>\n",
       "</div>"
      ],
      "text/plain": [
       "          date_crawled           ad_created            last_seen\n",
       "0  2016-03-24 11:52:17  2016-03-24 00:00:00  2016-04-07 03:16:57\n",
       "1  2016-03-24 10:58:45  2016-03-24 00:00:00  2016-04-07 01:46:50\n",
       "2  2016-03-14 12:52:21  2016-03-14 00:00:00  2016-04-05 12:47:46\n",
       "3  2016-03-17 16:54:04  2016-03-17 00:00:00  2016-03-17 17:40:17\n",
       "4  2016-03-31 17:25:20  2016-03-31 00:00:00  2016-04-06 10:17:21"
      ]
     },
     "execution_count": 19,
     "metadata": {},
     "output_type": "execute_result"
    }
   ],
   "source": [
    "df3[[\"date_crawled\",\"ad_created\",\"last_seen\"]][0:5]"
   ]
  },
  {
   "cell_type": "markdown",
   "id": "0a2b1d40",
   "metadata": {},
   "source": [
    "## Review about matrix, and how it works"
   ]
  },
  {
   "cell_type": "code",
   "execution_count": 20,
   "id": "50504a1c",
   "metadata": {
    "scrolled": true
   },
   "outputs": [
    {
     "name": "stdout",
     "output_type": "stream",
     "text": [
      "A = [[1, 4, 5, 12], [-5, 8, 9, 0], [-6, 7, 11, 19]]\n",
      "A[1] = [-5, 8, 9, 0]\n",
      "A[1][2] = 9\n",
      "A[0][-1] = 12\n",
      "3rd column = [5, 9, 11]\n",
      "\n",
      "\n",
      "[[1, 4, 5, 12], [-5, 8, 9, 0], [-6, 7, 11, 19]]\n"
     ]
    }
   ],
   "source": [
    "A = [[1, 4, 5, 12], \n",
    "    [-5, 8, 9, 0],\n",
    "    [-6, 7, 11, 19]]\n",
    "\n",
    "print(\"A =\", A) \n",
    "print(\"A[1] =\", A[1])      # 2nd row\n",
    "print(\"A[1][2] =\", A[1][2])   # 3rd element of 2nd row\n",
    "print(\"A[0][-1] =\", A[0][-1])   # Last element of 1st Row\n",
    "\n",
    "column = [];        # empty list\n",
    "for row in A:\n",
    "  column.append(row[2])   \n",
    "\n",
    "print(\"3rd column =\", column)\n",
    "print(\"\\n\")\n",
    "print(A)"
   ]
  },
  {
   "cell_type": "code",
   "execution_count": 21,
   "id": "eaca9a5e",
   "metadata": {},
   "outputs": [],
   "source": [
    "from numpy import *"
   ]
  },
  {
   "cell_type": "code",
   "execution_count": 22,
   "id": "07a7b71b",
   "metadata": {},
   "outputs": [
    {
     "name": "stdout",
     "output_type": "stream",
     "text": [
      "[['Mon' '18' '20' '22' '17']\n",
      " ['Tue' '11' '18' '21' '18']\n",
      " ['Wed' '15' '21' '20' '19']\n",
      " ['Thu' '11' '20' '22' '21']\n",
      " ['Fri' '18' '17' '23' '22']\n",
      " ['Sat' '12' '22' '20' '18']\n",
      " ['Sun' '13' '15' '19' '16']]\n",
      "\n",
      "\n",
      "[['Mon' '18' '20' '22' '17']\n",
      " ['Tue' '11' '18' '21' '18']\n",
      " ['Wed' '15' '21' '20' '19']\n",
      " ['Thu' '11' '20' '22' '21']\n",
      " ['Fri' '18' '17' '23' '22']\n",
      " ['Sat' '12' '22' '20' '18']\n",
      " ['Sun' '13' '15' '19' '16']\n",
      " ['Avg' '12' '15' '13' '11']]\n"
     ]
    }
   ],
   "source": [
    "\n",
    "m_ar = array([['Mon',18,20,22,17],['Tue',11,18,21,18],\n",
    "   ['Wed',15,21,20,19],['Thu',11,20,22,21],\n",
    "   ['Fri',18,17,23,22],['Sat',12,22,20,18],\n",
    "   ['Sun',13,15,19,16]])\n",
    "m_r = append(m_ar,[['Avg',12,15,13,11]],0)\n",
    "\n",
    "print(m_ar)\n",
    "print(\"\\n\")\n",
    "print(m_r)"
   ]
  },
  {
   "cell_type": "markdown",
   "id": "ad15d570",
   "metadata": {},
   "source": [
    "## end of review"
   ]
  },
  {
   "cell_type": "code",
   "execution_count": 23,
   "id": "157aec42",
   "metadata": {},
   "outputs": [
    {
     "name": "stdout",
     "output_type": "stream",
     "text": [
      "ad_created\n"
     ]
    }
   ],
   "source": [
    "ab = [\"date_crawled\",\"ad_created\",\"last_seen\"]\n",
    "print(ab[1])"
   ]
  },
  {
   "cell_type": "code",
   "execution_count": 24,
   "id": "52c0ffee",
   "metadata": {
    "scrolled": true
   },
   "outputs": [
    {
     "data": {
      "text/plain": [
       "2016-03-05    0.025547\n",
       "2016-03-06    0.014483\n",
       "2016-03-07    0.035657\n",
       "2016-03-08    0.033469\n",
       "2016-03-09    0.034115\n",
       "2016-03-10    0.032646\n",
       "2016-03-11    0.032773\n",
       "2016-03-12    0.036242\n",
       "2016-03-13    0.015783\n",
       "2016-03-14    0.036328\n",
       "2016-03-15    0.033425\n",
       "2016-03-16    0.030205\n",
       "2016-03-17    0.031647\n",
       "2016-03-18    0.013119\n",
       "2016-03-19    0.035272\n",
       "2016-03-20    0.036400\n",
       "2016-03-21    0.035679\n",
       "2016-03-22    0.032493\n",
       "2016-03-23    0.032002\n",
       "2016-03-24    0.029914\n",
       "2016-03-25    0.032801\n",
       "2016-03-26    0.031975\n",
       "2016-03-27    0.030225\n",
       "2016-03-28    0.035064\n",
       "2016-03-29    0.034126\n",
       "2016-03-30    0.033536\n",
       "2016-03-31    0.031872\n",
       "2016-04-01    0.034146\n",
       "2016-04-02    0.035094\n",
       "2016-04-03    0.038813\n",
       "2016-04-04    0.037626\n",
       "2016-04-05    0.012780\n",
       "2016-04-06    0.003128\n",
       "2016-04-07    0.001617\n",
       "Name: date_crawled, dtype: float64"
      ]
     },
     "execution_count": 24,
     "metadata": {},
     "output_type": "execute_result"
    }
   ],
   "source": [
    "(df3[ab[0]]\n",
    " .str[0:10]\n",
    " .value_counts(normalize=True, dropna = False) #normalize = true biar unique values di itung lagi misal list = 3,1,2,3. Peluang 3 = 2/4\n",
    " .sort_index() #biar di sort based on labelnya, bisa diliat datesnya berurutan\n",
    ")"
   ]
  },
  {
   "cell_type": "code",
   "execution_count": 25,
   "id": "62e51ba4",
   "metadata": {
    "scrolled": true
   },
   "outputs": [
    {
     "data": {
      "text/plain": [
       "2014-03-10    0.000003\n",
       "2015-03-20    0.000003\n",
       "2015-06-11    0.000003\n",
       "2015-06-18    0.000003\n",
       "2015-08-07    0.000003\n",
       "                ...   \n",
       "2016-04-03    0.039001\n",
       "2016-04-04    0.037734\n",
       "2016-04-05    0.011613\n",
       "2016-04-06    0.003120\n",
       "2016-04-07    0.001553\n",
       "Name: ad_created, Length: 114, dtype: float64"
      ]
     },
     "execution_count": 25,
     "metadata": {},
     "output_type": "execute_result"
    }
   ],
   "source": [
    "(df3[ab[1]]\n",
    " .str[0:10]\n",
    " .value_counts(normalize=True, dropna = False) #normalize = true biar unique values di itung lagi misal list = 3,1,2,3. Peluang 3 = 2/4\n",
    " .sort_index() #biar di sort based on labelnya, bisa diliat datesnya berurutan\n",
    ")"
   ]
  },
  {
   "cell_type": "code",
   "execution_count": 26,
   "id": "7e6cbd38",
   "metadata": {
    "scrolled": true
   },
   "outputs": [
    {
     "data": {
      "text/plain": [
       "2016-03-05    0.001264\n",
       "2016-03-06    0.004098\n",
       "2016-03-07    0.005202\n",
       "2016-03-08    0.007939\n",
       "2016-03-09    0.009824\n",
       "2016-03-10    0.011460\n",
       "2016-03-11    0.012955\n",
       "2016-03-12    0.023240\n",
       "2016-03-13    0.008410\n",
       "2016-03-14    0.012176\n",
       "2016-03-15    0.016321\n",
       "2016-03-16    0.016418\n",
       "2016-03-17    0.028700\n",
       "2016-03-18    0.006888\n",
       "2016-03-19    0.016330\n",
       "2016-03-20    0.019885\n",
       "2016-03-21    0.020026\n",
       "2016-03-22    0.020506\n",
       "2016-03-23    0.018016\n",
       "2016-03-24    0.019164\n",
       "2016-03-25    0.019000\n",
       "2016-03-26    0.015958\n",
       "2016-03-27    0.016718\n",
       "2016-03-28    0.022189\n",
       "2016-03-29    0.023284\n",
       "2016-03-30    0.023725\n",
       "2016-03-31    0.024244\n",
       "2016-04-01    0.023897\n",
       "2016-04-02    0.024967\n",
       "2016-04-03    0.025308\n",
       "2016-04-04    0.025533\n",
       "2016-04-05    0.126964\n",
       "2016-04-06    0.218952\n",
       "2016-04-07    0.130438\n",
       "Name: last_seen, dtype: float64"
      ]
     },
     "execution_count": 26,
     "metadata": {},
     "output_type": "execute_result"
    }
   ],
   "source": [
    "(df3[ab[2]]\n",
    " .str[0:10]\n",
    " .value_counts(normalize=True, dropna = False) #normalize = true biar unique values di itung lagi misal list = 3,1,2,3. Peluang 3 = 2/4\n",
    " .sort_index() #biar di sort based on labelnya, bisa diliat datesnya berurutan\n",
    ")"
   ]
  },
  {
   "cell_type": "markdown",
   "id": "c7c48f53",
   "metadata": {},
   "source": [
    "crawler record tanggal, dimana membuat bisa dicari hari apa yg listing ilangin, yg kyknya mobil nya dah kejual\n",
    "\n",
    "3 hari terakhir terdiri dari ketidak proprosian dari jumlah \"last-seen\" value. Diberitahu bahwa 6-10x value dari haris ebelumnya, kyknya ada spikes dan nilainya kyknya crawling priod dan tidak mengindikasi car sales."
   ]
  },
  {
   "cell_type": "markdown",
   "id": "9419e284",
   "metadata": {},
   "source": [
    "## Incorrect registration year data\n",
    "\n",
    "mobil gk bisa regist sebelum listing, mobil manapun dengan regist diatas 2016 biasanya tak akurat\n",
    "\n",
    "satu opsi = remove listings dengan valuenya. Cek presentase dari data kita yang tidak valid dalam kolom:"
   ]
  },
  {
   "cell_type": "code",
   "execution_count": 27,
   "id": "6365370d",
   "metadata": {
    "scrolled": true
   },
   "outputs": [
    {
     "name": "stdout",
     "output_type": "stream",
     "text": [
      "0         True\n",
      "1         True\n",
      "2         True\n",
      "3         True\n",
      "4         True\n",
      "          ... \n",
      "371523    True\n",
      "371524    True\n",
      "371525    True\n",
      "371526    True\n",
      "371527    True\n",
      "Name: registration_year, Length: 360631, dtype: bool\n",
      "\n",
      "\n",
      "correct =  346656\n",
      "correct %=  0.03875152163846152\n"
     ]
    }
   ],
   "source": [
    "filter123 = (df3[\"registration_year\"]>1900)&(df3[\"registration_year\"]<2017)\n",
    "print(filter123)\n",
    "correct = df3[filter123].shape[0]\n",
    "print(\"\\n\")\n",
    "print(\"correct = \",correct)\n",
    "correct_prcnt = correct/df3.shape[0]\n",
    "print(\"correct %= \",1 - correct_prcnt)"
   ]
  },
  {
   "cell_type": "markdown",
   "id": "9d6d8e86",
   "metadata": {},
   "source": [
    "## Explor harga by Brandnya\n",
    "\n",
    "-  kita lihat disini apakah harga sesuai dengan kualitas brandnya"
   ]
  },
  {
   "cell_type": "code",
   "execution_count": 28,
   "id": "eff6ac18",
   "metadata": {},
   "outputs": [
    {
     "data": {
      "text/plain": [
       "2000    0.066700\n",
       "1999    0.063553\n",
       "2005    0.062670\n",
       "2006    0.057709\n",
       "2001    0.056956\n",
       "2003    0.056558\n",
       "2004    0.056174\n",
       "2002    0.054290\n",
       "2007    0.050500\n",
       "1998    0.049692\n",
       "Name: registration_year, dtype: float64"
      ]
     },
     "execution_count": 28,
     "metadata": {},
     "output_type": "execute_result"
    }
   ],
   "source": [
    "# kita bikin dulu data yg udah\n",
    "\n",
    "clean_df = df3[filter123]\n",
    "clean_df[\"registration_year\"].value_counts(normalize = True).head(10)"
   ]
  },
  {
   "cell_type": "markdown",
   "id": "f67f6216",
   "metadata": {},
   "source": [
    "-  terlihat bahwa mostly mobil yg terjual teregister dalam 20 thn terakhir"
   ]
  },
  {
   "cell_type": "code",
   "execution_count": 29,
   "id": "636872ec",
   "metadata": {},
   "outputs": [
    {
     "data": {
      "text/plain": [
       "volkswagen        0.211703\n",
       "bmw               0.109873\n",
       "opel              0.106411\n",
       "mercedes_benz     0.096840\n",
       "audi              0.089544\n",
       "ford              0.068918\n",
       "renault           0.047517\n",
       "peugeot           0.030154\n",
       "fiat              0.025691\n",
       "seat              0.018661\n",
       "skoda             0.015687\n",
       "mazda             0.015384\n",
       "smart             0.014331\n",
       "citroen           0.013950\n",
       "nissan            0.013598\n",
       "toyota            0.012932\n",
       "hyundai           0.009972\n",
       "sonstige_autos    0.009491\n",
       "mini              0.009384\n",
       "volvo             0.009147\n",
       "mitsubishi        0.008236\n",
       "honda             0.007532\n",
       "kia               0.006915\n",
       "suzuki            0.006364\n",
       "alfa_romeo        0.006309\n",
       "porsche           0.006205\n",
       "chevrolet         0.005022\n",
       "chrysler          0.003863\n",
       "dacia             0.002495\n",
       "jeep              0.002192\n",
       "land_rover        0.002166\n",
       "daihatsu          0.002161\n",
       "subaru            0.002117\n",
       "jaguar            0.001734\n",
       "saab              0.001465\n",
       "daewoo            0.001457\n",
       "trabant           0.001408\n",
       "lancia            0.001301\n",
       "rover             0.001272\n",
       "lada              0.000597\n",
       "Name: brand, dtype: float64"
      ]
     },
     "execution_count": 29,
     "metadata": {},
     "output_type": "execute_result"
    }
   ],
   "source": [
    "brand_cnt = clean_df[\"brand\"].value_counts(normalize=True)\n",
    "brand_cnt"
   ]
  },
  {
   "cell_type": "markdown",
   "id": "eb144f73",
   "metadata": {},
   "source": [
    "\n",
    "prshaan german mewakili 4 dari 5 top five brands. hampir 50% dari overall. Volkswagen terpopuler, bahkan dia setara jumlah dari rank 2 dan 3\n",
    "\n",
    "banyak brand yg gk punya nilai presentase yg signifikan. Maka kita limit brand untuk di analisis yg mewakili 5% dari keseluruhan listing brand"
   ]
  },
  {
   "cell_type": "code",
   "execution_count": 30,
   "id": "85a51e1e",
   "metadata": {},
   "outputs": [
    {
     "data": {
      "text/plain": [
       "volkswagen       0.211703\n",
       "bmw              0.109873\n",
       "opel             0.106411\n",
       "mercedes_benz    0.096840\n",
       "audi             0.089544\n",
       "ford             0.068918\n",
       "Name: brand, dtype: float64"
      ]
     },
     "execution_count": 30,
     "metadata": {},
     "output_type": "execute_result"
    }
   ],
   "source": [
    "filter345 = brand_cnt > 0.05\n",
    "\n",
    "common_brand = brand_cnt[filter345]\n",
    "\n",
    "common_brand"
   ]
  },
  {
   "cell_type": "code",
   "execution_count": 31,
   "id": "497112c5",
   "metadata": {},
   "outputs": [
    {
     "data": {
      "text/plain": [
       "Index(['volkswagen', 'bmw', 'opel', 'mercedes_benz', 'audi', 'ford'], dtype='object')"
      ]
     },
     "execution_count": 31,
     "metadata": {},
     "output_type": "execute_result"
    }
   ],
   "source": [
    "common_brand.index"
   ]
  },
  {
   "cell_type": "code",
   "execution_count": 32,
   "id": "2d168cee",
   "metadata": {},
   "outputs": [
    {
     "data": {
      "text/plain": [
       "{'volkswagen': 5400,\n",
       " 'bmw': 8449,\n",
       " 'opel': 2971,\n",
       " 'mercedes_benz': 8541,\n",
       " 'audi': 9086,\n",
       " 'ford': 3696}"
      ]
     },
     "execution_count": 32,
     "metadata": {},
     "output_type": "execute_result"
    }
   ],
   "source": [
    "common_brand_index = common_brand.index\n",
    "\n",
    "mean_price_per_brand = {}\n",
    "\n",
    "for brand in common_brand_index:\n",
    "    filter789 = clean_df[\"brand\"] == brand\n",
    "    cars = clean_df[filter789]\n",
    "    brand_mean = cars[\"price\"].mean()\n",
    "    mean_price_per_brand[brand] = int(brand_mean)\n",
    "\n",
    "mean_price_per_brand"
   ]
  },
  {
   "cell_type": "code",
   "execution_count": 33,
   "id": "1e5b9c20",
   "metadata": {},
   "outputs": [
    {
     "data": {
      "text/plain": [
       "False    322765\n",
       "True      23891\n",
       "Name: brand, dtype: int64"
      ]
     },
     "execution_count": 33,
     "metadata": {},
     "output_type": "execute_result"
    }
   ],
   "source": [
    "filter789.value_counts()"
   ]
  },
  {
   "cell_type": "markdown",
   "id": "e7c7300e",
   "metadata": {},
   "source": [
    "dari top 5 brand, ada perbedaaan harga:\n",
    "\n",
    "-  audi, bmw, merci termahal\n",
    "-  ford and opel top murah\n",
    "-  volkswagen diantara mahal dan murah (so so),= alasan volkswag populer"
   ]
  },
  {
   "cell_type": "markdown",
   "id": "6ba8c047",
   "metadata": {},
   "source": [
    "## Exploring Mileage (Jarak tempuh)"
   ]
  },
  {
   "cell_type": "code",
   "execution_count": 34,
   "id": "6a4c43af",
   "metadata": {},
   "outputs": [],
   "source": [
    "import pandas as pd"
   ]
  },
  {
   "cell_type": "code",
   "execution_count": 39,
   "id": "faec1391",
   "metadata": {},
   "outputs": [
    {
     "name": "stdout",
     "output_type": "stream",
     "text": [
      "bmw              132800\n",
      "mercedes_benz    130573\n",
      "audi             129443\n",
      "opel             128722\n",
      "volkswagen       128386\n",
      "ford             123662\n",
      "dtype: int64\n",
      "\n",
      "audi             9086\n",
      "mercedes_benz    8541\n",
      "bmw              8449\n",
      "volkswagen       5400\n",
      "ford             3696\n",
      "opel             2971\n",
      "dtype: int64\n"
     ]
    }
   ],
   "source": [
    "mean_mile_per_brand = {}\n",
    "\n",
    "for brand in common_brand_index:\n",
    "    fltr = clean_df[\"brand\"] == brand\n",
    "    cars = clean_df[fltr]\n",
    "    mile_mean = cars[\"kilometer\"].mean()\n",
    "    mean_mile_per_brand[brand] = int(mile_mean)\n",
    "\n",
    "mean_mile = pd.Series(mean_mile_per_brand).sort_values(ascending=False)\n",
    "print(mean_mile)\n",
    "print()\n",
    "mean_prices = pd.Series(mean_price_per_brand).sort_values(ascending=False)\n",
    "print(mean_prices)   "
   ]
  },
  {
   "cell_type": "code",
   "execution_count": 46,
   "id": "db6d51a4",
   "metadata": {},
   "outputs": [
    {
     "data": {
      "text/html": [
       "<div>\n",
       "<style scoped>\n",
       "    .dataframe tbody tr th:only-of-type {\n",
       "        vertical-align: middle;\n",
       "    }\n",
       "\n",
       "    .dataframe tbody tr th {\n",
       "        vertical-align: top;\n",
       "    }\n",
       "\n",
       "    .dataframe thead th {\n",
       "        text-align: right;\n",
       "    }\n",
       "</style>\n",
       "<table border=\"1\" class=\"dataframe\">\n",
       "  <thead>\n",
       "    <tr style=\"text-align: right;\">\n",
       "      <th></th>\n",
       "      <th>mean_mile</th>\n",
       "      <th>mean_prices</th>\n",
       "    </tr>\n",
       "  </thead>\n",
       "  <tbody>\n",
       "  </tbody>\n",
       "</table>\n",
       "</div>"
      ],
      "text/plain": [
       "Empty DataFrame\n",
       "Columns: [mean_mile, mean_prices]\n",
       "Index: []"
      ]
     },
     "execution_count": 46,
     "metadata": {},
     "output_type": "execute_result"
    }
   ],
   "source": [
    "brand_info = pd.DataFrame(columns = [\"mean_mile\", \"mean_prices\"])\n",
    "brand_info"
   ]
  },
  {
   "cell_type": "code",
   "execution_count": 47,
   "id": "89fc0ae2",
   "metadata": {},
   "outputs": [
    {
     "data": {
      "text/html": [
       "<div>\n",
       "<style scoped>\n",
       "    .dataframe tbody tr th:only-of-type {\n",
       "        vertical-align: middle;\n",
       "    }\n",
       "\n",
       "    .dataframe tbody tr th {\n",
       "        vertical-align: top;\n",
       "    }\n",
       "\n",
       "    .dataframe thead th {\n",
       "        text-align: right;\n",
       "    }\n",
       "</style>\n",
       "<table border=\"1\" class=\"dataframe\">\n",
       "  <thead>\n",
       "    <tr style=\"text-align: right;\">\n",
       "      <th></th>\n",
       "      <th>mean_mile</th>\n",
       "      <th>mean_prices</th>\n",
       "    </tr>\n",
       "  </thead>\n",
       "  <tbody>\n",
       "    <tr>\n",
       "      <th>opel</th>\n",
       "      <td>128722</td>\n",
       "      <td>2971</td>\n",
       "    </tr>\n",
       "    <tr>\n",
       "      <th>ford</th>\n",
       "      <td>123662</td>\n",
       "      <td>3696</td>\n",
       "    </tr>\n",
       "    <tr>\n",
       "      <th>volkswagen</th>\n",
       "      <td>128386</td>\n",
       "      <td>5400</td>\n",
       "    </tr>\n",
       "    <tr>\n",
       "      <th>bmw</th>\n",
       "      <td>132800</td>\n",
       "      <td>8449</td>\n",
       "    </tr>\n",
       "    <tr>\n",
       "      <th>mercedes_benz</th>\n",
       "      <td>130573</td>\n",
       "      <td>8541</td>\n",
       "    </tr>\n",
       "    <tr>\n",
       "      <th>audi</th>\n",
       "      <td>129443</td>\n",
       "      <td>9086</td>\n",
       "    </tr>\n",
       "  </tbody>\n",
       "</table>\n",
       "</div>"
      ],
      "text/plain": [
       "               mean_mile  mean_prices\n",
       "opel              128722         2971\n",
       "ford              123662         3696\n",
       "volkswagen        128386         5400\n",
       "bmw               132800         8449\n",
       "mercedes_benz     130573         8541\n",
       "audi              129443         9086"
      ]
     },
     "execution_count": 47,
     "metadata": {},
     "output_type": "execute_result"
    }
   ],
   "source": [
    "brand_info[\"mean_prices\"] = mean_prices\n",
    "brand_info[\"mean_mile\"] = mean_mile\n",
    "\n",
    "brand_info.sort_values(by = \"mean_prices\")"
   ]
  },
  {
   "cell_type": "markdown",
   "id": "877475d4",
   "metadata": {},
   "source": [
    "Range dari mile si mobil tidak begitu varian seiring dengan harga si brandnya. Namun, jatuh hasilnya pada top 10% brand. Ada sedikit trend pada mobil yang mahal memiliki mile yg lebih besar, dengan harga mobil yg sedikit lbh mahal dengan mile kecil."
   ]
  },
  {
   "cell_type": "markdown",
   "id": "e56066d2",
   "metadata": {},
   "source": [
    "## Kesimpulan\n",
    "\n",
    "-  semkin tinggin harga tidak begitu menggambarkan performa mile nya, contohnya brand opel dengan 2971 mean prices dan 128722 kilo mile.\n",
    "\n",
    "-  bandingkan dengan brand yg tidak begitu luxurious (ford dan volkswagen) dengan nilai rata-rata 3696 dan 5400. Keduanya memiliki mile yang tidak jauh beda dengam opel."
   ]
  }
 ],
 "metadata": {
  "kernelspec": {
   "display_name": "Python 3 (ipykernel)",
   "language": "python",
   "name": "python3"
  },
  "language_info": {
   "codemirror_mode": {
    "name": "ipython",
    "version": 3
   },
   "file_extension": ".py",
   "mimetype": "text/x-python",
   "name": "python",
   "nbconvert_exporter": "python",
   "pygments_lexer": "ipython3",
   "version": "3.8.8"
  }
 },
 "nbformat": 4,
 "nbformat_minor": 5
}
