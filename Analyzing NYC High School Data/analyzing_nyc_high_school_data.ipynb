{
 "cells": [
  {
   "cell_type": "markdown",
   "metadata": {},
   "source": [
    "# Analyzing New York High School SAT Results\n",
    "\n",
    "One of the most controversial issues in the U.S. educational system is the efficacy of standardized tests, and whether they're unfair to certain groups. As such, investigating the correlations between SAT scores and demographics might be an interesting angle to take. We could correlate SAT scores with factors like race, gender, income, and more.\n",
    "\n",
    "The SAT, or Scholastic Aptitude Test, is an exam that U.S. high school students take before applying to college. Colleges take the test scores into account when deciding who to admit, so it's fairly important to perform well on it.\n",
    "\n",
    "The test consists of three sections, each of which has 800 possible points. The combined score is out of 2,400 possible points (while this number has changed a few times, the data set for our project is based on 2,400 total points). Organizations often rank high schools by their average SAT scores. The scores are also considered a measure of overall school district quality."
   ]
  },
  {
   "cell_type": "markdown",
   "metadata": {},
   "source": [
    "## Reading the Datasets\n",
    "\n",
    "I will be using 8 datasets in this project:\n",
    "\n",
    "-  [AP test results](https://data.cityofnewyork.us/Education/2010-AP-College-Board-School-Level-Results/itfs-ms3e) - Advanced Placement (AP) exam results for each high school (passing an optional AP exam in a particular subject can earn a student college credit in that subject)\n",
    "\n",
    "-  [Class size](https://data.cityofnewyork.us/Education/2010-2011-Class-Size-School-level-detail/urz7-pzb3) - Information on class size for each school\n",
    "\n",
    "-  [Demographics](https://data.cityofnewyork.us/Education/2006-2012-School-Demographics-and-Accountability-S/ihfw-zy9j) - Demographic information for each school\n",
    "\n",
    "-  [Graduation outcomes](https://data.cityofnewyork.us/Education/2005-2010-Graduation-Outcomes-School-Level/vh2h-md7a) - The percentage of students who graduated, and other outcome information\n",
    "\n",
    "-  [High School directory](https://data.cityofnewyork.us/Education/2014-2015-DOE-High-School-Directory/n3p6-zve2) - Directory of high schools in New York City\n",
    "\n",
    "-  [SAT scores by school](https://data.cityofnewyork.us/Education/2012-SAT-Results/f9bf-2cp4) - SAT scores for each high school in New York City\n",
    "\n",
    "-  [School survey](https://data.cityofnewyork.us/Education/2011-NYC-School-Survey/mnz3-dyi8) - Surveys of parents, teachers, and students at each school\n"
   ]
  },
  {
   "cell_type": "code",
   "execution_count": 1,
   "metadata": {},
   "outputs": [
    {
     "name": "stdout",
     "output_type": "stream",
     "text": [
      "      DBN                                    SCHOOL NAME  \\\n",
      "0  01M292  HENRY STREET SCHOOL FOR INTERNATIONAL STUDIES   \n",
      "1  01M448            UNIVERSITY NEIGHBORHOOD HIGH SCHOOL   \n",
      "2  01M450                     EAST SIDE COMMUNITY SCHOOL   \n",
      "3  01M458                      FORSYTH SATELLITE ACADEMY   \n",
      "4  01M509                        MARTA VALLE HIGH SCHOOL   \n",
      "\n",
      "  Num of SAT Test Takers SAT Critical Reading Avg. Score SAT Math Avg. Score  \\\n",
      "0                     29                             355                 404   \n",
      "1                     91                             383                 423   \n",
      "2                     70                             377                 402   \n",
      "3                      7                             414                 401   \n",
      "4                     44                             390                 433   \n",
      "\n",
      "  SAT Writing Avg. Score  \n",
      "0                    363  \n",
      "1                    366  \n",
      "2                    370  \n",
      "3                    359  \n",
      "4                    384  \n"
     ]
    }
   ],
   "source": [
    "import pandas as pd\n",
    "import numpy\n",
    "import re\n",
    "\n",
    "data_files = [\n",
    "    \"ap_2010.csv\",\n",
    "    \"class_size.csv\",\n",
    "    \"demographics.csv\",\n",
    "    \"graduation.csv\",\n",
    "    \"hs_directory.csv\",\n",
    "    \"sat_results.csv\"\n",
    "]\n",
    "\n",
    "data = {}\n",
    "\n",
    "for f in data_files:\n",
    "    d = pd.read_csv(\"schools/{0}\".format(f))\n",
    "    data[f.replace(\".csv\", \"\")] = d\n",
    "    \n",
    "print(data[\"sat_results\"].head())"
   ]
  },
  {
   "cell_type": "code",
   "execution_count": 2,
   "metadata": {},
   "outputs": [
    {
     "name": "stdout",
     "output_type": "stream",
     "text": [
      "Index(['dbn', 'bn', 'schoolname', 'd75', 'studentssurveyed', 'highschool',\n",
      "       'schooltype', 'rr_s', 'rr_t', 'rr_p',\n",
      "       ...\n",
      "       's_q14_2', 's_q14_3', 's_q14_4', 's_q14_5', 's_q14_6', 's_q14_7',\n",
      "       's_q14_8', 's_q14_9', 's_q14_10', 's_q14_11'],\n",
      "      dtype='object', length=2773)\n"
     ]
    }
   ],
   "source": [
    "all_survey = pd.read_csv(\"schools/survey_all.txt\", delimiter=\"\\t\", encoding='windows-1252')\n",
    "d75_survey = pd.read_csv(\"schools/survey_d75.txt\", delimiter=\"\\t\", encoding='windows-1252')\n",
    "survey = pd.concat([all_survey, d75_survey], axis=0, sort = False)\n",
    "\n",
    "print(survey.columns)"
   ]
  },
  {
   "cell_type": "markdown",
   "metadata": {},
   "source": [
    "The survey dataframe seems to have more that 2000 columns available for us to analyze. We have to filter out the ones we dont need. Luckily there's a [dictionary](https://data.cityofnewyork.us/Education/NYC-School-Survey-2011/mnz3-dyi8) that explains what each columns are for. \n",
    "\n",
    "Based on the dictionary, I picked out several columns that I think relevant on analyzing students SAT Scores.\n",
    "\n",
    "I also renamed the \"dbn\" column into \"DBN\" so it can be merged with the SAT dataset."
   ]
  },
  {
   "cell_type": "code",
   "execution_count": 3,
   "metadata": {},
   "outputs": [],
   "source": [
    "survey[\"DBN\"] = survey[\"dbn\"]\n",
    "\n",
    "survey_fields = [\n",
    "    \"DBN\", \n",
    "    \"rr_s\", \n",
    "    \"rr_t\", \n",
    "    \"rr_p\", \n",
    "    \"N_s\", \n",
    "    \"N_t\", \n",
    "    \"N_p\", \n",
    "    \"saf_p_11\", \n",
    "    \"com_p_11\", \n",
    "    \"eng_p_11\", \n",
    "    \"aca_p_11\", \n",
    "    \"saf_t_11\", \n",
    "    \"com_t_11\", \n",
    "    \"eng_t_11\", \n",
    "    \"aca_t_11\", \n",
    "    \"saf_s_11\", \n",
    "    \"com_s_11\", \n",
    "    \"eng_s_11\", \n",
    "    \"aca_s_11\", \n",
    "    \"saf_tot_11\", \n",
    "    \"com_tot_11\", \n",
    "    \"eng_tot_11\", \n",
    "    \"aca_tot_11\",\n",
    "]\n",
    "survey = survey[survey_fields]\n",
    "data[\"survey\"] = survey"
   ]
  },
  {
   "cell_type": "code",
   "execution_count": 4,
   "metadata": {},
   "outputs": [
    {
     "name": "stdout",
     "output_type": "stream",
     "text": [
      "ap_2010\n",
      "      DBN                             SchoolName  AP Test Takers   \\\n",
      "0  01M448           UNIVERSITY NEIGHBORHOOD H.S.             39.0   \n",
      "1  01M450                 EAST SIDE COMMUNITY HS             19.0   \n",
      "2  01M515                    LOWER EASTSIDE PREP             24.0   \n",
      "3  01M539         NEW EXPLORATIONS SCI,TECH,MATH            255.0   \n",
      "4  02M296  High School of Hospitality Management              NaN   \n",
      "\n",
      "   Total Exams Taken  Number of Exams with scores 3 4 or 5  \n",
      "0               49.0                                  10.0  \n",
      "1               21.0                                   NaN  \n",
      "2               26.0                                  24.0  \n",
      "3              377.0                                 191.0  \n",
      "4                NaN                                   NaN  \n",
      "\n",
      "class_size\n",
      "   CSD BOROUGH SCHOOL CODE                SCHOOL NAME GRADE  PROGRAM TYPE  \\\n",
      "0    1       M        M015  P.S. 015 Roberto Clemente     0K       GEN ED   \n",
      "1    1       M        M015  P.S. 015 Roberto Clemente     0K          CTT   \n",
      "2    1       M        M015  P.S. 015 Roberto Clemente     01       GEN ED   \n",
      "3    1       M        M015  P.S. 015 Roberto Clemente     01          CTT   \n",
      "4    1       M        M015  P.S. 015 Roberto Clemente     02       GEN ED   \n",
      "\n",
      "  CORE SUBJECT (MS CORE and 9-12 ONLY) CORE COURSE (MS CORE and 9-12 ONLY)  \\\n",
      "0                                    -                                   -   \n",
      "1                                    -                                   -   \n",
      "2                                    -                                   -   \n",
      "3                                    -                                   -   \n",
      "4                                    -                                   -   \n",
      "\n",
      "  SERVICE CATEGORY(K-9* ONLY)  NUMBER OF STUDENTS / SEATS FILLED  \\\n",
      "0                           -                               19.0   \n",
      "1                           -                               21.0   \n",
      "2                           -                               17.0   \n",
      "3                           -                               17.0   \n",
      "4                           -                               15.0   \n",
      "\n",
      "   NUMBER OF SECTIONS  AVERAGE CLASS SIZE  SIZE OF SMALLEST CLASS  \\\n",
      "0                 1.0                19.0                    19.0   \n",
      "1                 1.0                21.0                    21.0   \n",
      "2                 1.0                17.0                    17.0   \n",
      "3                 1.0                17.0                    17.0   \n",
      "4                 1.0                15.0                    15.0   \n",
      "\n",
      "   SIZE OF LARGEST CLASS DATA SOURCE  SCHOOLWIDE PUPIL-TEACHER RATIO  \n",
      "0                   19.0         ATS                             NaN  \n",
      "1                   21.0         ATS                             NaN  \n",
      "2                   17.0         ATS                             NaN  \n",
      "3                   17.0         ATS                             NaN  \n",
      "4                   15.0         ATS                             NaN  \n",
      "\n",
      "demographics\n",
      "      DBN                       Name  schoolyear fl_percent  frl_percent  \\\n",
      "0  01M015  P.S. 015 ROBERTO CLEMENTE    20052006       89.4          NaN   \n",
      "1  01M015  P.S. 015 ROBERTO CLEMENTE    20062007       89.4          NaN   \n",
      "2  01M015  P.S. 015 ROBERTO CLEMENTE    20072008       89.4          NaN   \n",
      "3  01M015  P.S. 015 ROBERTO CLEMENTE    20082009       89.4          NaN   \n",
      "4  01M015  P.S. 015 ROBERTO CLEMENTE    20092010                    96.5   \n",
      "\n",
      "   total_enrollment prek   k grade1 grade2    ...     black_num black_per  \\\n",
      "0               281   15  36     40     33    ...            74      26.3   \n",
      "1               243   15  29     39     38    ...            68      28.0   \n",
      "2               261   18  43     39     36    ...            77      29.5   \n",
      "3               252   17  37     44     32    ...            75      29.8   \n",
      "4               208   16  40     28     32    ...            67      32.2   \n",
      "\n",
      "  hispanic_num hispanic_per white_num white_per male_num male_per female_num  \\\n",
      "0          189         67.3         5       1.8    158.0     56.2      123.0   \n",
      "1          153         63.0         4       1.6    140.0     57.6      103.0   \n",
      "2          157         60.2         7       2.7    143.0     54.8      118.0   \n",
      "3          149         59.1         7       2.8    149.0     59.1      103.0   \n",
      "4          118         56.7         6       2.9    124.0     59.6       84.0   \n",
      "\n",
      "  female_per  \n",
      "0       43.8  \n",
      "1       42.4  \n",
      "2       45.2  \n",
      "3       40.9  \n",
      "4       40.4  \n",
      "\n",
      "[5 rows x 38 columns]\n",
      "\n",
      "graduation\n",
      "    Demographic     DBN                            School Name    Cohort  \\\n",
      "0  Total Cohort  01M292  HENRY STREET SCHOOL FOR INTERNATIONAL      2003   \n",
      "1  Total Cohort  01M292  HENRY STREET SCHOOL FOR INTERNATIONAL      2004   \n",
      "2  Total Cohort  01M292  HENRY STREET SCHOOL FOR INTERNATIONAL      2005   \n",
      "3  Total Cohort  01M292  HENRY STREET SCHOOL FOR INTERNATIONAL      2006   \n",
      "4  Total Cohort  01M292  HENRY STREET SCHOOL FOR INTERNATIONAL  2006 Aug   \n",
      "\n",
      "   Total Cohort Total Grads - n  Total Grads - % of cohort Total Regents - n  \\\n",
      "0             5               s                        NaN                 s   \n",
      "1            55              37                       67.3                17   \n",
      "2            64              43                       67.2                27   \n",
      "3            78              43                       55.1                36   \n",
      "4            78              44                       56.4                37   \n",
      "\n",
      "   Total Regents - % of cohort  Total Regents - % of grads  \\\n",
      "0                          NaN                         NaN   \n",
      "1                         30.9                        45.9   \n",
      "2                         42.2                        62.8   \n",
      "3                         46.2                        83.7   \n",
      "4                         47.4                        84.1   \n",
      "\n",
      "             ...            Regents w/o Advanced - n  \\\n",
      "0            ...                                   s   \n",
      "1            ...                                  17   \n",
      "2            ...                                  27   \n",
      "3            ...                                  36   \n",
      "4            ...                                  37   \n",
      "\n",
      "   Regents w/o Advanced - % of cohort  Regents w/o Advanced - % of grads  \\\n",
      "0                                 NaN                                NaN   \n",
      "1                                30.9                               45.9   \n",
      "2                                42.2                               62.8   \n",
      "3                                46.2                               83.7   \n",
      "4                                47.4                               84.1   \n",
      "\n",
      "  Local - n  Local - % of cohort  Local - % of grads Still Enrolled - n  \\\n",
      "0         s                  NaN                 NaN                  s   \n",
      "1        20                 36.4                54.1                 15   \n",
      "2        16                 25.0                37.2                  9   \n",
      "3         7                  9.0                16.3                 16   \n",
      "4         7                  9.0                15.9                 15   \n",
      "\n",
      "   Still Enrolled - % of cohort  Dropped Out - n Dropped Out - % of cohort  \n",
      "0                           NaN                s                       NaN  \n",
      "1                          27.3                3                       5.5  \n",
      "2                          14.1                9                      14.1  \n",
      "3                          20.5               11                      14.1  \n",
      "4                          19.2               11                      14.1  \n",
      "\n",
      "[5 rows x 23 columns]\n",
      "\n",
      "hs_directory\n",
      "      dbn                                        school_name    borough  \\\n",
      "0  17K548                Brooklyn School for Music & Theatre   Brooklyn   \n",
      "1  09X543                   High School for Violin and Dance      Bronx   \n",
      "2  09X327        Comprehensive Model School Project M.S. 327      Bronx   \n",
      "3  02M280     Manhattan Early College School for Advertising  Manhattan   \n",
      "4  28Q680  Queens Gateway to Health Sciences Secondary Sc...     Queens   \n",
      "\n",
      "  building_code    phone_number    fax_number  grade_span_min  grade_span_max  \\\n",
      "0          K440    718-230-6250  718-230-6262             9.0              12   \n",
      "1          X400    718-842-0687  718-589-9849             9.0              12   \n",
      "2          X240    718-294-8111  718-294-8109             6.0              12   \n",
      "3          M520  718-935-3477             NaN             9.0              10   \n",
      "4          Q695    718-969-3155  718-969-3552             6.0              12   \n",
      "\n",
      "   expgrade_span_min  expgrade_span_max  \\\n",
      "0                NaN                NaN   \n",
      "1                NaN                NaN   \n",
      "2                NaN                NaN   \n",
      "3                9.0               14.0   \n",
      "4                NaN                NaN   \n",
      "\n",
      "                         ...                         priority08 priority09  \\\n",
      "0                        ...                                NaN        NaN   \n",
      "1                        ...                                NaN        NaN   \n",
      "2                        ...                                NaN        NaN   \n",
      "3                        ...                                NaN        NaN   \n",
      "4                        ...                                NaN        NaN   \n",
      "\n",
      "  priority10                                         Location 1  \\\n",
      "0        NaN  883 Classon Avenue\\nBrooklyn, NY 11225\\n(40.67...   \n",
      "1        NaN  1110 Boston Road\\nBronx, NY 10456\\n(40.8276026...   \n",
      "2        NaN  1501 Jerome Avenue\\nBronx, NY 10452\\n(40.84241...   \n",
      "3        NaN  411 Pearl Street\\nNew York, NY 10038\\n(40.7106...   \n",
      "4        NaN  160 20 Goethals Avenue\\nJamaica, NY 11432\\n(40...   \n",
      "\n",
      "  Community Board  Council District Census Tract        BIN           BBL  \\\n",
      "0             9.0              35.0        213.0  3029686.0  3.011870e+09   \n",
      "1             3.0              16.0        135.0  2004526.0  2.026340e+09   \n",
      "2             4.0              14.0        209.0  2008336.0  2.028590e+09   \n",
      "3             1.0               1.0         29.0  1001388.0  1.001130e+09   \n",
      "4             8.0              24.0       1267.0  4539721.0  4.068580e+09   \n",
      "\n",
      "                                                 NTA  \n",
      "0  Crown Heights South                           ...  \n",
      "1  Morrisania-Melrose                            ...  \n",
      "2  West Concourse                                ...  \n",
      "3  Chinatown                                     ...  \n",
      "4  Pomonok-Flushing Heights-Hillcrest            ...  \n",
      "\n",
      "[5 rows x 64 columns]\n",
      "\n",
      "sat_results\n",
      "      DBN                                    SCHOOL NAME  \\\n",
      "0  01M292  HENRY STREET SCHOOL FOR INTERNATIONAL STUDIES   \n",
      "1  01M448            UNIVERSITY NEIGHBORHOOD HIGH SCHOOL   \n",
      "2  01M450                     EAST SIDE COMMUNITY SCHOOL   \n",
      "3  01M458                      FORSYTH SATELLITE ACADEMY   \n",
      "4  01M509                        MARTA VALLE HIGH SCHOOL   \n",
      "\n",
      "  Num of SAT Test Takers SAT Critical Reading Avg. Score SAT Math Avg. Score  \\\n",
      "0                     29                             355                 404   \n",
      "1                     91                             383                 423   \n",
      "2                     70                             377                 402   \n",
      "3                      7                             414                 401   \n",
      "4                     44                             390                 433   \n",
      "\n",
      "  SAT Writing Avg. Score  \n",
      "0                    363  \n",
      "1                    366  \n",
      "2                    370  \n",
      "3                    359  \n",
      "4                    384  \n",
      "\n",
      "survey\n",
      "      DBN  rr_s  rr_t  rr_p    N_s   N_t    N_p  saf_p_11  com_p_11  eng_p_11  \\\n",
      "0  01M015   NaN    88    60    NaN  22.0   90.0       8.5       7.6       7.5   \n",
      "1  01M019   NaN   100    60    NaN  34.0  161.0       8.4       7.6       7.6   \n",
      "2  01M020   NaN    88    73    NaN  42.0  367.0       8.9       8.3       8.3   \n",
      "3  01M034  89.0    73    50  145.0  29.0  151.0       8.8       8.2       8.0   \n",
      "4  01M063   NaN   100    60    NaN  23.0   90.0       8.7       7.9       8.1   \n",
      "\n",
      "      ...      eng_t_11  aca_t_11  saf_s_11  com_s_11  eng_s_11  aca_s_11  \\\n",
      "0     ...           7.6       7.9       NaN       NaN       NaN       NaN   \n",
      "1     ...           8.9       9.1       NaN       NaN       NaN       NaN   \n",
      "2     ...           6.8       7.5       NaN       NaN       NaN       NaN   \n",
      "3     ...           6.8       7.8       6.2       5.9       6.5       7.4   \n",
      "4     ...           7.8       8.1       NaN       NaN       NaN       NaN   \n",
      "\n",
      "   saf_tot_11  com_tot_11  eng_tot_11  aca_tot_11  \n",
      "0         8.0         7.7         7.5         7.9  \n",
      "1         8.5         8.1         8.2         8.4  \n",
      "2         8.2         7.3         7.5         8.0  \n",
      "3         7.3         6.7         7.1         7.9  \n",
      "4         8.5         7.6         7.9         8.0  \n",
      "\n",
      "[5 rows x 23 columns]\n",
      "\n"
     ]
    }
   ],
   "source": [
    "for key in data:\n",
    "    print(key)\n",
    "    print(data[key].head())\n",
    "    print()"
   ]
  },
  {
   "cell_type": "markdown",
   "metadata": {},
   "source": [
    "## Preparing the data"
   ]
  },
  {
   "cell_type": "markdown",
   "metadata": {},
   "source": [
    "After observing the available columns in the dataset, we can see that some do not have the DBN column like the hs_directory and class_size.\n",
    "\n",
    "For the hs_directory dataset, we can just create a DBN column from the existing cbn column.\n",
    "\n",
    "The class_size does not seem to have a dbn column though. However, we can see that the DBN column whether from the sat_results or hs_directory dataset is just a combination of the CSD and SCHOOL CODE columns in the class_size data. The main difference is that the DBN is padded, so that the CSD portion of it always consists of two digits. That means we'll need to add a leading 0 to the CSD if the CSD is less than two digits long."
   ]
  },
  {
   "cell_type": "code",
   "execution_count": 5,
   "metadata": {},
   "outputs": [],
   "source": [
    "data[\"hs_directory\"][\"DBN\"] = data[\"hs_directory\"][\"dbn\"]\n",
    "\n",
    "# Convert number into string, padding it into a fixed length of 2. Example : input \"1\" will be converted into \"01\" whereas input \"11\" will be left as it is\n",
    "def pad_csd(num):\n",
    "    string_representation = str(num)\n",
    "    if len(string_representation) > 1:\n",
    "        return string_representation\n",
    "    else:\n",
    "        return \"0\" + string_representation\n",
    "    \n",
    "data[\"class_size\"][\"padded_csd\"] = data[\"class_size\"][\"CSD\"].map(pad_csd)\n",
    "data[\"class_size\"][\"DBN\"] = data[\"class_size\"][\"padded_csd\"] + data[\"class_size\"][\"SCHOOL CODE\"]"
   ]
  },
  {
   "cell_type": "markdown",
   "metadata": {},
   "source": [
    "We can also see on the sat_results dataset that the SAT scores are divided into three columns. To make our analysis easier, it might be wise to just combine those three columns into just one, which is the total SAT score."
   ]
  },
  {
   "cell_type": "code",
   "execution_count": 6,
   "metadata": {},
   "outputs": [],
   "source": [
    "cols = ['SAT Math Avg. Score', 'SAT Critical Reading Avg. Score', 'SAT Writing Avg. Score']\n",
    "for c in cols:\n",
    "    data[\"sat_results\"][c] = pd.to_numeric(data[\"sat_results\"][c], errors=\"coerce\")\n",
    "\n",
    "data['sat_results']['sat_score'] = data['sat_results'][cols[0]] + data['sat_results'][cols[1]] + data['sat_results'][cols[2]]\n"
   ]
  },
  {
   "cell_type": "markdown",
   "metadata": {},
   "source": [
    "Next, I want to parse the latitude and longitude coordinates for each school. This will enable us to map the schools and uncover any geographic patterns in the data. "
   ]
  },
  {
   "cell_type": "code",
   "execution_count": 7,
   "metadata": {},
   "outputs": [],
   "source": [
    "def find_lat(loc):\n",
    "    coords = re.findall(\"\\(.+, .+\\)\", loc)\n",
    "    lat = coords[0].split(\",\")[0].replace(\"(\", \"\")\n",
    "    return lat\n",
    "\n",
    "def find_lon(loc):\n",
    "    coords = re.findall(\"\\(.+, .+\\)\", loc)\n",
    "    lon = coords[0].split(\",\")[1].replace(\")\", \"\").strip()\n",
    "    return lon\n",
    "\n",
    "data[\"hs_directory\"][\"lat\"] = data[\"hs_directory\"][\"Location 1\"].apply(find_lat)\n",
    "data[\"hs_directory\"][\"lon\"] = data[\"hs_directory\"][\"Location 1\"].apply(find_lon)\n",
    "\n",
    "data[\"hs_directory\"][\"lat\"] = pd.to_numeric(data[\"hs_directory\"][\"lat\"], errors=\"coerce\")\n",
    "data[\"hs_directory\"][\"lon\"] = pd.to_numeric(data[\"hs_directory\"][\"lon\"], errors=\"coerce\")"
   ]
  },
  {
   "cell_type": "markdown",
   "metadata": {},
   "source": [
    "## Condensing the datasets"
   ]
  },
  {
   "cell_type": "markdown",
   "metadata": {},
   "source": [
    "Now I want to combine the datasets into one dataframe, but it seems I found a problem. If ww look into the class_size dataset, we can see that the DBN column is not unique. This is normal of course, since the dataset stores the information of every classroom that belong in each school. But, this means we cannot just merge the class_size dataset with other dataset using DBN as the key; at least for now.\n",
    "\n",
    "As a solution, I will condense the class_size dataset so that the DBN value is unique for each row. I will also do this to the graduation and demographics dataset\n"
   ]
  },
  {
   "cell_type": "code",
   "execution_count": 8,
   "metadata": {},
   "outputs": [],
   "source": [
    "# We are only concerned with high schools so the GRADE should be 09-12, and GEN ED is picked because its the largest program category.\n",
    "class_size = data[\"class_size\"]\n",
    "fltr = (class_size[\"GRADE \"] == \"09-12\") & (class_size[\"PROGRAM TYPE\"] == \"GEN ED\")\n",
    "class_size = class_size[fltr]\n",
    "\n",
    "#At this point, the DBN values are yet to be unique. So I group and aggregate them based on the DBN values.\n",
    "class_size = class_size.groupby(\"DBN\")\n",
    "class_size = class_size.agg(numpy.mean)\n",
    "class_size = class_size.reset_index()\n",
    "data[\"class_size\"] = class_size\n",
    "\n",
    "#We only want to select rows where schoolyear is 20112012. This will give us the most recent year of data, and also match our SAT results data.\n",
    "data[\"demographics\"] = data[\"demographics\"][data[\"demographics\"][\"schoolyear\"] == 20112012]"
   ]
  },
  {
   "cell_type": "markdown",
   "metadata": {},
   "source": [
    "The Demographic and Cohort columns are what prevent DBN from being unique in the graduation data. A Cohort appears to refer to the year the data represents, and the Demographic appears to refer to a specific demographic group. In this case, we want to pick data from the most recent Cohort available, which is 2006. We also want data from the full cohort, so we'll only pick rows where Demographic is Total Cohort."
   ]
  },
  {
   "cell_type": "code",
   "execution_count": 9,
   "metadata": {},
   "outputs": [],
   "source": [
    "fltr = data[\"graduation\"][\"Cohort\"] == \"2006\"\n",
    "data[\"graduation\"] = data[\"graduation\"][fltr]\n",
    "fltr = data[\"graduation\"][\"Demographic\"] == \"Total Cohort\"\n",
    "data[\"graduation\"] = data[\"graduation\"][fltr]"
   ]
  },
  {
   "cell_type": "markdown",
   "metadata": {},
   "source": [
    "I also need to change some columns on the ap_2010 dataset so they become numerical data."
   ]
  },
  {
   "cell_type": "code",
   "execution_count": 10,
   "metadata": {},
   "outputs": [],
   "source": [
    "cols = ['AP Test Takers ', 'Total Exams Taken', 'Number of Exams with scores 3 4 or 5']\n",
    "\n",
    "for col in cols:\n",
    "    data[\"ap_2010\"][col] = pd.to_numeric(data[\"ap_2010\"][col], errors=\"coerce\")"
   ]
  },
  {
   "cell_type": "markdown",
   "metadata": {},
   "source": [
    "## Combining the dataset\n",
    "\n",
    "Now, I will merge the dataset using DBN values as its key. Some will use left join, and some will use inner join."
   ]
  },
  {
   "cell_type": "code",
   "execution_count": 11,
   "metadata": {},
   "outputs": [],
   "source": [
    "combined = data[\"sat_results\"]\n",
    "combined = pd.merge(left = combined, right = data[\"ap_2010\"], on = \"DBN\", how = \"left\")\n",
    "combined = pd.merge(left = combined, right = data[\"graduation\"], on = \"DBN\", how = \"left\")\n",
    "\n",
    "to_merge = [\"class_size\", \"demographics\", \"survey\", \"hs_directory\"]\n",
    "\n",
    "for m in to_merge:\n",
    "    combined = combined.merge(data[m], on=\"DBN\", how=\"inner\")\n",
    "\n",
    "# Fill missing data with zeroes if the column does not have a mean\n",
    "combined = combined.fillna(combined.mean())\n",
    "combined = combined.fillna(0)"
   ]
  },
  {
   "cell_type": "markdown",
   "metadata": {},
   "source": [
    "I create a new column named \"school_dist\" to show the code of the school district, which can be retrieved from the first 2 number on the DBN value."
   ]
  },
  {
   "cell_type": "code",
   "execution_count": 12,
   "metadata": {},
   "outputs": [],
   "source": [
    "def get_first_two_chars(dbn):\n",
    "    return dbn[0:2]\n",
    "\n",
    "combined[\"school_dist\"] = combined[\"DBN\"].map(get_first_two_chars)"
   ]
  },
  {
   "cell_type": "markdown",
   "metadata": {},
   "source": [
    "## Finding Correlation"
   ]
  },
  {
   "cell_type": "code",
   "execution_count": 13,
   "metadata": {},
   "outputs": [
    {
     "name": "stdout",
     "output_type": "stream",
     "text": [
      "sat_score                               1.000000\n",
      "SAT Writing Avg. Score                  0.987771\n",
      "SAT Critical Reading Avg. Score         0.986820\n",
      "SAT Math Avg. Score                     0.972643\n",
      "Advanced Regents - % of cohort          0.771566\n",
      "Advanced Regents - % of grads           0.739927\n",
      "Total Regents - % of cohort             0.667603\n",
      "white_per                               0.620718\n",
      "Total Grads - % of cohort               0.584234\n",
      "asian_per                               0.570730\n",
      "AP Test Takers                          0.523140\n",
      "Total Exams Taken                       0.514333\n",
      "Total Regents - % of grads              0.494732\n",
      "asian_num                               0.475445\n",
      "Number of Exams with scores 3 4 or 5    0.463245\n",
      "white_num                               0.449559\n",
      "N_s                                     0.423463\n",
      "N_p                                     0.421530\n",
      "total_students                          0.407827\n",
      "NUMBER OF STUDENTS / SEATS FILLED       0.394626\n",
      "female_num                              0.388631\n",
      "AVERAGE CLASS SIZE                      0.381014\n",
      "total_enrollment                        0.367857\n",
      "NUMBER OF SECTIONS                      0.362673\n",
      "aca_s_11                                0.339435\n",
      "saf_s_11                                0.337639\n",
      "male_num                                0.325520\n",
      "Total Cohort                            0.325144\n",
      "saf_tot_11                              0.318753\n",
      "SIZE OF LARGEST CLASS                   0.314434\n",
      "                                          ...   \n",
      "grade_span_min                         -0.021315\n",
      "rr_t                                   -0.023386\n",
      "Community Board                        -0.060919\n",
      "postcode                               -0.063977\n",
      "Council District                       -0.076151\n",
      "male_per                               -0.112062\n",
      "com_p_11                               -0.115073\n",
      "lat                                    -0.121029\n",
      "lon                                    -0.132222\n",
      "Regents w/o Advanced - % of cohort     -0.138188\n",
      "ell_num                                -0.153778\n",
      "black_per                              -0.284139\n",
      "hispanic_per                           -0.396985\n",
      "ell_percent                            -0.398750\n",
      "sped_percent                           -0.448170\n",
      "Regents w/o Advanced - % of grads      -0.456213\n",
      "Dropped Out - % of cohort              -0.458537\n",
      "Local - % of cohort                    -0.467951\n",
      "Still Enrolled - % of cohort           -0.491914\n",
      "Local - % of grads                     -0.494732\n",
      "frl_percent                            -0.722225\n",
      "SCHOOLWIDE PUPIL-TEACHER RATIO               NaN\n",
      "schoolyear                                   NaN\n",
      "fl_percent                                   NaN\n",
      "grade_span_max                               NaN\n",
      "expgrade_span_min                            NaN\n",
      "expgrade_span_max                            NaN\n",
      "priority08                                   NaN\n",
      "priority09                                   NaN\n",
      "priority10                                   NaN\n",
      "Name: sat_score, Length: 85, dtype: float64\n"
     ]
    }
   ],
   "source": [
    "correlations = combined.corr()\n",
    "correlations = correlations[\"sat_score\"]\n",
    "correlations = correlations.sort_values(ascending = False)\n",
    "print(correlations)"
   ]
  },
  {
   "cell_type": "markdown",
   "metadata": {},
   "source": [
    "total_enrollment has a strong positive correlation with sat_score. This is surprising because we'd expect smaller schools where students receive more attention to have higher scores. However, it looks like the opposite is true -- larger schools tend to do better on the SAT."
   ]
  },
  {
   "cell_type": "markdown",
   "metadata": {},
   "source": [
    "## Plotting Survey Correlations"
   ]
  },
  {
   "cell_type": "code",
   "execution_count": 14,
   "metadata": {},
   "outputs": [
    {
     "data": {
      "text/plain": [
       "<matplotlib.axes._subplots.AxesSubplot at 0x23080252d30>"
      ]
     },
     "execution_count": 14,
     "metadata": {},
     "output_type": "execute_result"
    },
    {
     "data": {
      "image/png": "[encoded data removed]",
      "text/plain": [
       "<Figure size 432x288 with 1 Axes>"
      ]
     },
     "metadata": {
      "needs_background": "light"
     },
     "output_type": "display_data"
    }
   ],
   "source": [
    "# Remove DBN since it's a unique identifier, not a useful numerical value for correlation.\n",
    "survey_fields.remove(\"DBN\")\n",
    "%matplotlib inline\n",
    "combined.corr()[\"sat_score\"][survey_fields].plot.bar()"
   ]
  },
  {
   "cell_type": "markdown",
   "metadata": {},
   "source": [
    "We can see that there are high correlations betweet `N_s`, `N_t` and `N_p` and `sat_score`. But this is to be expected since those columns correlate with total_enrollment.\n",
    "\n",
    "What interesting is the `rr_s`, the students response rate which is the percentage of students who participated in the survey seems to correlate positively with sat_score. This might make sense because students who are more likely to fill out surveys may be more likely to also be doing well academically.\n",
    "\n",
    "Another thing that seems to correlate with `sat_score` is how the students and teachers perceived safety (`saf_s_11` & `saf_t_11`) in the environment. This makes sense because an unsafe environment would generally be bad for anyone to do anything.\n",
    "\n",
    "The last interesting correlation is `aca_s_11` which is how students perceive academics standard. However, how the parents and teachers perceive academics standard (`aca_p_11` & `aca_t_11`) dont seem to correlate with `sat_score`."
   ]
  },
  {
   "cell_type": "markdown",
   "metadata": {},
   "source": [
    "## Exploring Safety"
   ]
  },
  {
   "cell_type": "code",
   "execution_count": 15,
   "metadata": {},
   "outputs": [
    {
     "data": {
      "text/plain": [
       "<matplotlib.axes._subplots.AxesSubplot at 0x2308023d208>"
      ]
     },
     "execution_count": 15,
     "metadata": {},
     "output_type": "execute_result"
    },
    {
     "data": {
      "image/png": "[encoded data removed]",
      "text/plain": [
       "<Figure size 432x288 with 1 Axes>"
      ]
     },
     "metadata": {
      "needs_background": "light"
     },
     "output_type": "display_data"
    }
   ],
   "source": [
    "combined.plot.scatter(\"saf_s_11\", \"sat_score\")\n"
   ]
  },
  {
   "cell_type": "markdown",
   "metadata": {},
   "source": [
    "There appears to be a correlation between SAT scores and safety, although it isn't that strong. There are a few schools with extremely high SAT scores and high safety scores. There are also a few schools with low safety scores and low SAT scores. But we can see that no school with a safety score lower than 6.5 has an average SAT score higher than 1500 or so."
   ]
  },
  {
   "cell_type": "markdown",
   "metadata": {},
   "source": [
    "## Racial Differences in Scores"
   ]
  },
  {
   "cell_type": "code",
   "execution_count": 16,
   "metadata": {},
   "outputs": [
    {
     "data": {
      "text/plain": [
       "<matplotlib.axes._subplots.AxesSubplot at 0x2308022bf60>"
      ]
     },
     "execution_count": 16,
     "metadata": {},
     "output_type": "execute_result"
    },
    {
     "data": {
      "image/png": "[encoded data removed]",
      "text/plain": [
       "<Figure size 432x288 with 1 Axes>"
      ]
     },
     "metadata": {
      "needs_background": "light"
     },
     "output_type": "display_data"
    }
   ],
   "source": [
    "races = [\"white_per\", \"asian_per\", \"black_per\", \"hispanic_per\"]\n",
    "combined.corr()[\"sat_score\"][races].plot.bar()"
   ]
  },
  {
   "cell_type": "markdown",
   "metadata": {},
   "source": [
    "We can see that white and asians students tend to possitively correlate with higher sat scores, whereas a percentage of black and hispanic students correlate negatively with sat scores. This may be due to lack of funding on some schools with high percentage of black and hispanic students."
   ]
  },
  {
   "cell_type": "code",
   "execution_count": 17,
   "metadata": {},
   "outputs": [
    {
     "data": {
      "text/plain": [
       "<matplotlib.axes._subplots.AxesSubplot at 0x230802207b8>"
      ]
     },
     "execution_count": 17,
     "metadata": {},
     "output_type": "execute_result"
    },
    {
     "data": {
      "image/png": "[encoded data removed]",
      "text/plain": [
       "<Figure size 432x288 with 1 Axes>"
      ]
     },
     "metadata": {
      "needs_background": "light"
     },
     "output_type": "display_data"
    }
   ],
   "source": [
    "combined.plot.scatter(\"hispanic_per\", \"sat_score\")"
   ]
  },
  {
   "cell_type": "code",
   "execution_count": 18,
   "metadata": {},
   "outputs": [
    {
     "name": "stdout",
     "output_type": "stream",
     "text": [
      "44                         MANHATTAN BRIDGES HIGH SCHOOL\n",
      "82      WASHINGTON HEIGHTS EXPEDITIONARY LEARNING SCHOOL\n",
      "89     GREGORIO LUPERON HIGH SCHOOL FOR SCIENCE AND M...\n",
      "125                  ACADEMY FOR LANGUAGE AND TECHNOLOGY\n",
      "141                INTERNATIONAL SCHOOL FOR LIBERAL ARTS\n",
      "176     PAN AMERICAN INTERNATIONAL HIGH SCHOOL AT MONROE\n",
      "253                            MULTICULTURAL HIGH SCHOOL\n",
      "286               PAN AMERICAN INTERNATIONAL HIGH SCHOOL\n",
      "Name: SCHOOL NAME, dtype: object\n"
     ]
    }
   ],
   "source": [
    "print(combined[combined[\"hispanic_per\"] > 95][\"SCHOOL NAME\"])"
   ]
  },
  {
   "cell_type": "markdown",
   "metadata": {},
   "source": [
    "Schools listed above are primarily geared towards recent immigrants in the US. This might explain the low SAT scores since most of the students would be still learning english."
   ]
  },
  {
   "cell_type": "code",
   "execution_count": 19,
   "metadata": {},
   "outputs": [
    {
     "name": "stdout",
     "output_type": "stream",
     "text": [
      "37                                STUYVESANT HIGH SCHOOL\n",
      "151                         BRONX HIGH SCHOOL OF SCIENCE\n",
      "187                       BROOKLYN TECHNICAL HIGH SCHOOL\n",
      "327    QUEENS HIGH SCHOOL FOR THE SCIENCES AT YORK CO...\n",
      "356                  STATEN ISLAND TECHNICAL HIGH SCHOOL\n",
      "Name: SCHOOL NAME, dtype: object\n"
     ]
    }
   ],
   "source": [
    "print(combined[(combined[\"hispanic_per\"] < 10) & (combined[\"sat_score\"] > 1800)][\"SCHOOL NAME\"])"
   ]
  },
  {
   "cell_type": "markdown",
   "metadata": {},
   "source": [
    "The schools above appear to be specialized in science and technology, and only accepts students that passed the examination tests. This does not explain the low percentage of hyspanic student, but it does explain why those schools have good average SAT scores."
   ]
  },
  {
   "cell_type": "markdown",
   "metadata": {},
   "source": [
    "## Gender differences in SAT scores"
   ]
  },
  {
   "cell_type": "code",
   "execution_count": 20,
   "metadata": {},
   "outputs": [
    {
     "data": {
      "text/plain": [
       "<matplotlib.axes._subplots.AxesSubplot at 0x23080211208>"
      ]
     },
     "execution_count": 20,
     "metadata": {},
     "output_type": "execute_result"
    },
    {
     "data": {
      "image/png": "[encoded data removed]",
      "text/plain": [
       "<Figure size 432x288 with 1 Axes>"
      ]
     },
     "metadata": {
      "needs_background": "light"
     },
     "output_type": "display_data"
    }
   ],
   "source": [
    "gender_fields = [\"male_per\", \"female_per\"]\n",
    "combined.corr()[\"sat_score\"][gender_fields].plot.bar()"
   ]
  },
  {
   "cell_type": "markdown",
   "metadata": {},
   "source": [
    "We can see above that high male student percentage correlates negatively with sat scores, whereas high female students percentage correlates positively. Neither correlates strongly, however."
   ]
  },
  {
   "cell_type": "code",
   "execution_count": 21,
   "metadata": {},
   "outputs": [
    {
     "data": {
      "text/plain": [
       "<matplotlib.axes._subplots.AxesSubplot at 0x230802052b0>"
      ]
     },
     "execution_count": 21,
     "metadata": {},
     "output_type": "execute_result"
    },
    {
     "data": {
      "image/png": "[encoded data removed]",
      "text/plain": [
       "<Figure size 432x288 with 1 Axes>"
      ]
     },
     "metadata": {
      "needs_background": "light"
     },
     "output_type": "display_data"
    }
   ],
   "source": [
    "combined.plot.scatter(\"female_per\", \"sat_score\")"
   ]
  },
  {
   "cell_type": "markdown",
   "metadata": {},
   "source": [
    "Based on the scatterplot, there doesn't seem to be any real correlation between sat_score and female_per. However, there is a cluster of schools with a high percentage of females (60 to 80), and high SAT scores."
   ]
  },
  {
   "cell_type": "code",
   "execution_count": 22,
   "metadata": {},
   "outputs": [
    {
     "name": "stdout",
     "output_type": "stream",
     "text": [
      "5                         BARD HIGH SCHOOL EARLY COLLEGE\n",
      "26                         ELEANOR ROOSEVELT HIGH SCHOOL\n",
      "60                                    BEACON HIGH SCHOOL\n",
      "61     FIORELLO H. LAGUARDIA HIGH SCHOOL OF MUSIC & A...\n",
      "302                          TOWNSEND HARRIS HIGH SCHOOL\n",
      "Name: SCHOOL NAME, dtype: object\n"
     ]
    }
   ],
   "source": [
    "print(combined[(combined[\"female_per\"] > 60) & (combined[\"sat_score\"] > 1700)][\"SCHOOL NAME\"])"
   ]
  },
  {
   "cell_type": "markdown",
   "metadata": {},
   "source": [
    "These schools appears to be very selective liberal arts schools that have high academic standards."
   ]
  },
  {
   "cell_type": "markdown",
   "metadata": {},
   "source": [
    "## Class Size and SAT Scores"
   ]
  },
  {
   "cell_type": "code",
   "execution_count": 23,
   "metadata": {},
   "outputs": [
    {
     "data": {
      "text/plain": [
       "<matplotlib.axes._subplots.AxesSubplot at 0x230801ed9b0>"
      ]
     },
     "execution_count": 23,
     "metadata": {},
     "output_type": "execute_result"
    },
    {
     "data": {
      "image/png": "[encoded data removed]",
      "text/plain": [
       "<Figure size 432x288 with 1 Axes>"
      ]
     },
     "metadata": {
      "needs_background": "light"
     },
     "output_type": "display_data"
    },
    {
     "data": {
      "image/png": "[encoded data removed]",
      "text/plain": [
       "<Figure size 432x288 with 1 Axes>"
      ]
     },
     "metadata": {
      "needs_background": "light"
     },
     "output_type": "display_data"
    }
   ],
   "source": [
    "combined.corr()[\"sat_score\"][[\"AVERAGE CLASS SIZE\"]].plot.bar()\n",
    "combined.plot.scatter(\"AVERAGE CLASS SIZE\", \"sat_score\")"
   ]
  },
  {
   "cell_type": "markdown",
   "metadata": {},
   "source": [
    "While average class size seems to positively correlate with SAT scores, the correlation is not that strong. On any average class size, their average SAT scores would mostly place under 1500. For those with high SAT scores above 1500, the reason could be attributed to schools with already high funding with high academic standards. "
   ]
  },
  {
   "cell_type": "code",
   "execution_count": 24,
   "metadata": {},
   "outputs": [
    {
     "name": "stdout",
     "output_type": "stream",
     "text": [
      "                                           SCHOOL NAME  sat_score  \\\n",
      "24         N.Y.C. LAB SCHOOL FOR COLLABORATIVE STUDIES     1677.0   \n",
      "37                              STUYVESANT HIGH SCHOOL     2096.0   \n",
      "60                                  BEACON HIGH SCHOOL     1744.0   \n",
      "61   FIORELLO H. LAGUARDIA HIGH SCHOOL OF MUSIC & A...     1707.0   \n",
      "151                       BRONX HIGH SCHOOL OF SCIENCE     1969.0   \n",
      "187                     BROOKLYN TECHNICAL HIGH SCHOOL     1833.0   \n",
      "278     LEON M. GOLDSTEIN HIGH SCHOOL FOR THE SCIENCES     1627.0   \n",
      "304                    BENJAMIN N. CARDOZO HIGH SCHOOL     1514.0   \n",
      "\n",
      "     AVERAGE CLASS SIZE  \n",
      "24            32.566667  \n",
      "37            31.115789  \n",
      "60            30.783333  \n",
      "61            31.306250  \n",
      "151           31.163158  \n",
      "187           32.452632  \n",
      "278           31.582353  \n",
      "304           31.105263  \n"
     ]
    }
   ],
   "source": [
    "print(combined[(combined[\"AVERAGE CLASS SIZE\"] > 30) & (combined[\"sat_score\"] > 1500)][[\"SCHOOL NAME\", \"sat_score\", \"AVERAGE CLASS SIZE\"]])"
   ]
  },
  {
   "cell_type": "markdown",
   "metadata": {},
   "source": [
    "If we look at the schools with high SAT scores and high number of students per class, the schools appear to be the top ranking high schools in the U.S. "
   ]
  },
  {
   "cell_type": "markdown",
   "metadata": {},
   "source": [
    "## Summary \n",
    "\n",
    "So far, few of the factors that could contribute to high SAT scores would be how the teachers and students perception of the safety of their environment. A bad neighborhood would generally be bad for education.\n",
    "\n",
    "Another factor would be how schools with high percentages of minorities like black and hispanic seems to score lower SAT scores. In this case however, such things could be attributed to bad and poor neighborhood. Other than that, schools with high percentage of hyspanics are usually schools for immigrant where most of the students are not yet fluent in english, so naturally they would score lower in SAT's compared to schools predominantly filled with caucasian or asians."
   ]
  },
  {
   "cell_type": "code",
   "execution_count": null,
   "metadata": {},
   "outputs": [],
   "source": []
  }
 ],
 "metadata": {
  "kernelspec": {
   "display_name": "Python 3",
   "language": "python",
   "name": "python3"
  },
  "language_info": {
   "codemirror_mode": {
    "name": "ipython",
    "version": 3
   },
   "file_extension": ".py",
   "mimetype": "text/x-python",
   "name": "python",
   "nbconvert_exporter": "python",
   "pygments_lexer": "ipython3",
   "version": "3.7.1"
  }
 },
 "nbformat": 4,
 "nbformat_minor": 2
}
